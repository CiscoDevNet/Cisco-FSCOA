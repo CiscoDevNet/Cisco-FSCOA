{
 "cells": [
  {
   "cell_type": "code",
   "execution_count": 89,
   "id": "5f923644",
   "metadata": {},
   "outputs": [
    {
     "ename": "ModuleNotFoundError",
     "evalue": "No module named 'paramiko'",
     "output_type": "error",
     "traceback": [
      "\u001b[0;31m---------------------------------------------------------------------------\u001b[0m",
      "\u001b[0;31mModuleNotFoundError\u001b[0m                       Traceback (most recent call last)",
      "\u001b[0;32m/var/folders/zp/jjhb8rfx2xdcrq_h88dkyf680000gn/T/ipykernel_26925/1338020258.py\u001b[0m in \u001b[0;36m<cell line: 4>\u001b[0;34m()\u001b[0m\n\u001b[1;32m      2\u001b[0m \u001b[0;32mimport\u001b[0m \u001b[0mjson\u001b[0m\u001b[0;34m,\u001b[0m \u001b[0mre\u001b[0m\u001b[0;34m,\u001b[0m \u001b[0msys\u001b[0m\u001b[0;34m,\u001b[0m \u001b[0mos\u001b[0m\u001b[0;34m,\u001b[0m \u001b[0msubprocess\u001b[0m\u001b[0;34m\u001b[0m\u001b[0;34m\u001b[0m\u001b[0m\n\u001b[1;32m      3\u001b[0m \u001b[0;32mfrom\u001b[0m \u001b[0msubprocess\u001b[0m \u001b[0;32mimport\u001b[0m \u001b[0mcall\u001b[0m\u001b[0;34m,\u001b[0m \u001b[0mcheck_output\u001b[0m\u001b[0;34m\u001b[0m\u001b[0;34m\u001b[0m\u001b[0m\n\u001b[0;32m----> 4\u001b[0;31m \u001b[0;32mimport\u001b[0m \u001b[0mparamiko\u001b[0m\u001b[0;34m\u001b[0m\u001b[0;34m\u001b[0m\u001b[0m\n\u001b[0m\u001b[1;32m      5\u001b[0m \u001b[0;32mfrom\u001b[0m \u001b[0mnetmiko\u001b[0m \u001b[0;32mimport\u001b[0m \u001b[0;34m*\u001b[0m\u001b[0;34m\u001b[0m\u001b[0;34m\u001b[0m\u001b[0m\n\u001b[1;32m      6\u001b[0m \u001b[0;32mfrom\u001b[0m \u001b[0mnetmiko\u001b[0m\u001b[0;34m.\u001b[0m\u001b[0mcisco_base_connection\u001b[0m \u001b[0;32mimport\u001b[0m \u001b[0mCiscoSSHConnection\u001b[0m\u001b[0;34m\u001b[0m\u001b[0;34m\u001b[0m\u001b[0m\n",
      "\u001b[0;31mModuleNotFoundError\u001b[0m: No module named 'paramiko'"
     ]
    }
   ],
   "source": [
    "#!/usr/bin/env python\n",
    "import json, re, sys, os, subprocess\n",
    "from subprocess import call, check_output\n",
    "import paramiko\n",
    "from netmiko import *\n",
    "from netmiko.cisco_base_connection import CiscoSSHConnection\n",
    "from netmiko import ConnectHandler\n",
    "from netmiko.ssh_exception import NetMikoTimeoutException, NetMikoAuthenticationException\n",
    "from paramiko.ssh_exception import SSHException\n",
    "\n",
    "\n",
    "server='100.21.63.194'\n",
    "username='admin'\n",
    "password='admin'\n",
    "\n",
    "ssh = paramiko.SSHClient()\n",
    "ssh.connect(server, username=username, password=password)\n",
    "ssh_stdin, ssh_stdout, ssh_stderr = ssh.exec_command(cmd_1)\n",
    "\n"
   ]
  },
  {
   "cell_type": "code",
   "execution_count": 78,
   "id": "ac138d7a",
   "metadata": {},
   "outputs": [],
   "source": [
    "data=devices_response.json()"
   ]
  },
  {
   "cell_type": "code",
   "execution_count": 80,
   "id": "965eeea9",
   "metadata": {},
   "outputs": [
    {
     "name": "stdout",
     "output_type": "stream",
     "text": [
      "dict_keys(['header', 'data'])\n"
     ]
    }
   ],
   "source": [
    "data.keys()\n",
    "print(data.keys())"
   ]
  },
  {
   "cell_type": "code",
   "execution_count": 81,
   "id": "afafe8dc",
   "metadata": {},
   "outputs": [
    {
     "name": "stdout",
     "output_type": "stream",
     "text": [
      "<class 'list'>\n"
     ]
    }
   ],
   "source": [
    "type(data['data'])\n",
    "print(type(data['data']))"
   ]
  },
  {
   "cell_type": "code",
   "execution_count": 82,
   "id": "113cdf4e",
   "metadata": {},
   "outputs": [
    {
     "name": "stdout",
     "output_type": "stream",
     "text": [
      "0\n"
     ]
    }
   ],
   "source": [
    "len(data['data'])\n",
    "print(len(data['data']))"
   ]
  },
  {
   "cell_type": "code",
   "execution_count": 87,
   "id": "b932fa12",
   "metadata": {},
   "outputs": [
    {
     "name": "stdout",
     "output_type": "stream",
     "text": [
      "{'header': {'generatedOn': 1671137934574, 'viewKeys': {'uniqueKey': [], 'preferenceKey': 'grid-vEdgeList'}, 'columns': [{'title': 'Chassis Number', 'property': 'chasisNumber', 'hideable': False, 'width': 250, 'dataType': 'string'}, {'title': 'Tags', 'property': 'tags', 'display': 'toggle', 'actionColumn': True, 'minWidth': 100, 'dataType': 'string'}, {'title': 'Hostname', 'property': 'host-name', 'hideable': True, 'width': 200, 'dataType': 'string'}, {'title': 'Site ID', 'property': 'site-id', 'width': 70, 'dataType': 'numberStr'}, {'title': 'Region ID', 'property': 'region-id', 'width': 120, 'dataType': 'string'}, {'title': 'Mode', 'property': 'configOperationMode', 'display': 'keyvalue', 'keyvalueProperty': 'configOperationMode', 'keyvalue': [{'key': 'cli', 'value': 'CLI'}, {'key': 'vmanage', 'value': 'vManage'}], 'width': 80, 'dataType': 'string'}, {'title': 'Device Status', 'property': 'configStatusMessage', 'display': 'syncDiffChecker', 'minWidth': 150, 'dataType': 'string'}, {'title': 'Assigned Config Group', 'property': 'name', 'width': 150, 'dataType': 'string'}, {'title': 'Assigned Template', 'property': 'template', 'width': 150, 'dataType': 'string'}, {'title': 'Device Model', 'property': 'deviceModel', 'display': 'keyvalue', 'keyvalueProperty': 'deviceModel', 'hideable': False, 'minWidth': 120, 'dataType': 'string'}, {'title': 'Draft Mode', 'property': 'draftMode', 'width': 80, 'dataType': 'string'}, {'title': 'Serial No./Token', 'property': 'serialNumber', 'width': 150, 'dataType': 'string'}, {'title': 'Certificate State', 'property': 'vedgeCertificateState', 'display': 'iconAndToolTip', 'iconProperty': 'vedgeCertificateState', 'toolTipProperty': 'vedgeCertificateState', 'icon': [{'key': 'tokengenerated', 'value': 'images/certStates/token-generated.png', 'displayKey': 'Token Generated'}, {'key': 'bootstrapconfiggenerated', 'value': 'images/certStates/bootstrap-config-generated.png', 'displayKey': 'Bootstrap Configuration Generated'}, {'key': 'csrgenerated', 'value': 'images/certStates/csr-generated.png', 'displayKey': 'CSR Generated'}, {'key': 'csrfailed', 'value': 'images/certStates/csr-failed.png', 'displayKey': 'CSR Failed'}, {'key': 'certinstallfailed', 'value': 'images/certStates/cert-install-failed.png', 'displayKey': 'Certificate Installation Failed'}, {'key': 'certinstalled', 'value': 'images/certStates/cert-installed.png', 'displayKey': 'Certificate Installed'}], 'width': 40, 'dataType': 'string'}, {'title': 'Enterprise Cert Serial No', 'property': 'hardwareCertSerialNumber', 'width': 100, 'dataType': 'string'}, {'title': 'Certificate Expiration Date', 'property': 'expirationDate', 'width': 100, 'dataType': 'string'}, {'title': 'Subject SUDI serial #', 'property': 'subjectSerialNumber', 'width': 100, 'dataType': 'string'}, {'title': 'Validity', 'property': 'validity', 'display': 'toggle', 'actionColumn': True, 'minWidth': 100, 'dataType': 'string'}, {'title': 'System IP    ', 'property': 'local-system-ip', 'hideable': True, 'minWidth': 120, 'dataType': 'ipv4'}, {'title': 'Upload Source', 'property': 'uploadSource', 'display': 'toggle', 'actionColumn': True, 'minWidth': 150, 'dataType': 'string'}], 'fields': [{'property': 'chasisNumber', 'dataType': 'string'}, {'property': 'tags', 'dataType': 'string', 'display': 'toggle'}, {'property': 'host-name', 'dataType': 'string'}, {'property': 'deviceIP', 'dataType': 'ipv4'}, {'property': 'site-id', 'dataType': 'numberStr'}, {'property': 'region-id', 'dataType': 'string'}, {'property': 'configOperationMode', 'dataType': 'string', 'display': 'keyvalue'}, {'property': 'configStatusMessage', 'dataType': 'string', 'display': 'syncDiffChecker'}, {'property': 'name', 'dataType': 'string'}, {'property': 'template', 'dataType': 'string'}, {'property': 'deviceModel', 'dataType': 'string', 'display': 'keyvalue'}, {'property': 'draftMode', 'dataType': 'string'}, {'property': 'serialNumber', 'dataType': 'string'}, {'property': 'vedgeCertificateState', 'dataType': 'string', 'display': 'iconAndToolTip'}, {'property': 'hardwareCertSerialNumber', 'dataType': 'string'}, {'property': 'expirationDate', 'dataType': 'string'}, {'property': 'subjectSerialNumber', 'dataType': 'string'}, {'property': 'validity', 'dataType': 'string', 'display': 'toggle'}, {'property': 'local-system-ip', 'dataType': 'ipv4'}, {'property': 'vbond', 'dataType': 'ipv4'}, {'property': 'uploadSource', 'dataType': 'string', 'display': 'toggle'}]}, 'data': []}\n"
     ]
    }
   ],
   "source": [
    "print(data) "
   ]
  },
  {
   "cell_type": "code",
   "execution_count": null,
   "id": "37fb86ef",
   "metadata": {},
   "outputs": [],
   "source": []
  }
 ],
 "metadata": {
  "kernelspec": {
   "display_name": "Python 3 (ipykernel)",
   "language": "python",
   "name": "python3"
  },
  "language_info": {
   "codemirror_mode": {
    "name": "ipython",
    "version": 3
   },
   "file_extension": ".py",
   "mimetype": "text/x-python",
   "name": "python",
   "nbconvert_exporter": "python",
   "pygments_lexer": "ipython3",
   "version": "3.9.15"
  }
 },
 "nbformat": 4,
 "nbformat_minor": 5
}
