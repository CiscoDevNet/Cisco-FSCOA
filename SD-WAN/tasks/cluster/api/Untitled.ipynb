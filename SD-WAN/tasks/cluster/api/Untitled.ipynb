{
 "cells": [
  {
   "cell_type": "code",
   "execution_count": 2,
   "id": "453310c3",
   "metadata": {
    "pycharm": {
     "name": "#%%\n"
    }
   },
   "outputs": [
    {
     "name": "stdout",
     "output_type": "stream",
     "text": [
      "headers, cookies\n",
      "main jsession id JSESSIONID=TP-71DcFvv-lCG5c8i3kXbbxoPrtU-0pytbBIT_L.fc77b127-7137-4d7e-8cf0-7448ab2a0511\n",
      "token A73E6BE41D3C09090BCDAF1C6573054EC78260EBC92E13422E3EFBC3B64A8F5840B34FB97F66BADA508AB97B7B7F18EC82B9\n",
      "main token A73E6BE41D3C09090BCDAF1C6573054EC78260EBC92E13422E3EFBC3B64A8F5840B34FB97F66BADA508AB97B7B7F18EC82B9\n",
      "{\"header\":{\"generatedOn\":1684939460702,\"viewKeys\":{\"uniqueKey\":[\"system-ip\"],\"preferenceKey\":\"grid-DeviceMultitenant\"},\"columns\":[{\"title\":\"Hostname\",\"property\":\"host-name\",\"display\":\"iconAndText\",\"iconProperty\":\"device-type\",\"hideable\":false,\"icon\":[{\"key\":\"vmanage\",\"value\":\"images/vmanage_table.png\"},{\"key\":\"vedge\",\"value\":\"images/vedge_table.png\"},{\"key\":\"vedge-vbond\",\"value\":\"images/vedge-vbond_table.png\"},{\"key\":\"vsmart\",\"value\":\"images/vsmart_table.png\"},{\"key\":\"vbond\",\"value\":\"images/vbond_table.png\"}],\"width\":150,\"dataType\":\"string\"},{\"title\":\"State\",\"property\":\"state\",\"display\":\"iconAndToolTip\",\"iconProperty\":\"state\",\"toolTipProperty\":\"state_description\",\"defaultPropertyKey\":\"reachability\",\"defaultPropertyValue\":\"reachable\",\"icon\":[{\"key\":\"green\",\"value\":\"images/device_state_green.png\"},{\"key\":\"red\",\"value\":\"images/device_state_red.png\"},{\"key\":\"yellow\",\"value\":\"images/device_state_yellow.png\"},{\"key\":\"default\",\"value\":\"images/device_state_other.png\"}],\"width\":20,\"dataType\":\"string\"},{\"title\":\"System IP\",\"property\":\"local-system-ip\",\"width\":110,\"dataType\":\"ipv4\"},{\"title\":\"vManage System IP\",\"property\":\"system-ip\",\"visible\":false,\"width\":110,\"dataType\":\"ipv4\"},{\"title\":\"Reachability\",\"property\":\"reachability\",\"display\":\"multiColumns\",\"color\":[{\"key\":\"reachable\",\"value\":\"616161\",\"property\":\"reachability\"},{\"key\":\"unreachable\",\"value\":\"ef5350\",\"property\":\"reachability\"},{\"key\":\"auth-failed\",\"value\":\"ffb300\",\"property\":\"reachability\"},{\"key\":\"staging\",\"value\":\"ffb300\",\"property\":\"validity\"}],\"width\":150,\"minWidth\":150,\"dataType\":\"string\"},{\"title\":\"Site ID\",\"property\":\"site-id\",\"width\":70,\"dataType\":\"numberStr\"},{\"title\":\"Device Model\",\"property\":\"device-model\",\"display\":\"multiColumns\",\"width\":100,\"dataType\":\"deviceModel\"},{\"title\":\"BFD\",\"property\":\"bfdSessions\",\"width\":75,\"minWidth\":65,\"dataType\":\"numberStr\"},{\"title\":\"Control\",\"property\":\"controlConnections\",\"width\":75,\"minWidth\":65,\"dataType\":\"numberStr\"},{\"title\":\"Version\",\"property\":\"version\",\"width\":150,\"dataType\":\"string\"},{\"title\":\"Up Since\",\"property\":\"uptime-date\",\"displayFormat\":\"DD MMM YYYY h:mm:ss A z\",\"inputFormat\":\"unix-time\",\"width\":200,\"dataType\":\"date\"},{\"title\":\"Chassis Number/ID\",\"property\":\"uuid\",\"width\":220,\"dataType\":\"string\"},{\"title\":\"Device Groups\",\"property\":\"device-groups\",\"width\":100,\"dataType\":\"array\"},{\"title\":\"Connected vManage\",\"property\":\"connectedVManages\",\"visible\":true,\"width\":500,\"dataType\":\"array\"}],\"fields\":[{\"property\":\"host-name\",\"dataType\":\"string\",\"display\":\"iconAndText\"},{\"property\":\"state\",\"dataType\":\"string\",\"display\":\"iconAndToolTip\"},{\"property\":\"local-system-ip\",\"dataType\":\"ipv4\"},{\"property\":\"system-ip\",\"dataType\":\"ipv4\"},{\"property\":\"reachability\",\"dataType\":\"string\",\"display\":\"multiColumns\"},{\"property\":\"site-id\",\"dataType\":\"numberStr\"},{\"property\":\"device-model\",\"dataType\":\"deviceModel\",\"display\":\"multiColumns\"},{\"property\":\"bfdSessions\",\"dataType\":\"numberStr\"},{\"property\":\"controlConnections\",\"dataType\":\"numberStr\"},{\"property\":\"version\",\"dataType\":\"string\"},{\"property\":\"number-vsmart-peers\",\"dataType\":\"number\"},{\"property\":\"uptime-date\",\"dataType\":\"date\"},{\"property\":\"uuid\",\"dataType\":\"string\"},{\"property\":\"board-serial\",\"dataType\":\"string\"},{\"property\":\"device-groups\",\"dataType\":\"array\"},{\"property\":\"connectedVManages\",\"dataType\":\"array\"},{\"property\":\"lastupdated\",\"dataType\":\"date\"}]},\"data\":[{\"deviceId\":\"169.254.10.1\",\"system-ip\":\"169.254.10.1\",\"host-name\":\"vmanage_1\",\"reachability\":\"reachable\",\"status\":\"normal\",\"personality\":\"vmanage\",\"device-type\":\"vmanage\",\"timezone\":\"UTC\",\"device-groups\":[\"No groups\"],\"lastupdated\":1684938212588,\"domain-id\":\"0\",\"board-serial\":\"No certificate installed\",\"certificate-validity\":\"Not Applicable\",\"max-controllers\":\"0\",\"uuid\":\"fc77b127-7137-4d7e-8cf0-7448ab2a0511\",\"controlConnections\":\"0\",\"device-model\":\"vmanage\",\"version\":\"20.11.1\",\"connectedVManages\":[\"169.254.10.1\"],\"site-id\":\"1\",\"latitude\":\"37.666684\",\"longitude\":\"-122.777023\",\"isDeviceGeoData\":false,\"platform\":\"x86_64\",\"uptime-date\":1684936200000,\"statusOrder\":4,\"device-os\":\"next\",\"validity\":\"valid\",\"state\":\"green\",\"state_description\":\"All daemons up\",\"model_sku\":\"None\",\"local-system-ip\":\"172.16.1.11\",\"total_cpu_count\":\"16\",\"testbed_mode\":false,\"layoutLevel\":1},{\"deviceId\":\"169.254.10.2\",\"system-ip\":\"169.254.10.2\",\"host-name\":\"vmanage_2\",\"reachability\":\"reachable\",\"status\":\"normal\",\"personality\":\"vmanage\",\"device-type\":\"vmanage\",\"timezone\":\"UTC\",\"device-groups\":[\"No groups\"],\"lastupdated\":1684938131701,\"domain-id\":\"0\",\"board-serial\":\"No certificate installed\",\"certificate-validity\":\"Not Applicable\",\"max-controllers\":\"0\",\"uuid\":\"5a673b93-a08d-4bc1-9d02-f5b0895e3242\",\"controlConnections\":\"0\",\"device-model\":\"vmanage\",\"version\":\"20.11.1\",\"connectedVManages\":[\"169.254.10.2\"],\"site-id\":\"1\",\"latitude\":\"37.666684\",\"longitude\":\"-122.777023\",\"isDeviceGeoData\":false,\"platform\":\"x86_64\",\"uptime-date\":1684936200000,\"statusOrder\":4,\"device-os\":\"next\",\"validity\":\"valid\",\"state\":\"green\",\"state_description\":\"All daemons up\",\"model_sku\":\"None\",\"local-system-ip\":\"172.16.1.12\",\"total_cpu_count\":\"16\",\"testbed_mode\":false,\"layoutLevel\":1}]}\n"
     ]
    }
   ],
   "source": [
    "#credit to https://drive.google.com/drive/folders/1jknduoqpTljcf2N9Dq9d9-YIXfz-4yYu\n",
    "class Authentication:\n",
    "    @staticmethod\n",
    "    def get_jsessionid(vmanage_host, vmanage_port, username, password):\n",
    "        api = \"/j_security_check\"\n",
    "        base_url = \"https://%s:%s\" % (vmanage_host, vmanage_port)\n",
    "        url = base_url + api\n",
    "        payload = {'j_username': username, 'j_password': password}\n",
    "        \n",
    "        response = requests.post(url=url, data=payload, verify=False)\n",
    "        try:\n",
    "            cookies = response.headers[\"Set-Cookie\"]\n",
    "            print(\"headers, cookies\")\n",
    "            jsessionid = cookies.split(\";\")\n",
    "            return(jsessionid[0])\n",
    "        except:\n",
    "            [print(\"No Valid JSESSION ID returned\\n\")]\n",
    "            exit()\n",
    "            \n",
    "    @staticmethod\n",
    "    def get_token(vmanage_host, vmanage_port, jsessionid):\n",
    "        headers = {'Cookie': jsessionid}\n",
    "        base_url = \"https://%s:%s\" % (vmanage_host, vmanage_port)\n",
    "        api = \"/dataservice/client/token\"\n",
    "        url = base_url + api\n",
    "        response = requests.get(url=url, headers=headers, verify=False)\n",
    "        if response.status_code == 200:\n",
    "            print(\"token\", response.text)\n",
    "            return(response.text)\n",
    "        else:\n",
    "            return None\n",
    "\n",
    "import requests, json, urllib3\n",
    "urllib3.disable_warnings()\n",
    "vmanage_port = \"8443\"\n",
    "vmanage_host = \"184.169.141.21\"\n",
    "vmanage_username = \"admin\"\n",
    "vmanage_password = \"admin1\"\n",
    "\n",
    "Auth = Authentication()\n",
    "jsessionid = Auth.get_jsessionid(vmanage_host, vmanage_port, vmanage_username, vmanage_password)\n",
    "print(\"main jsession id\", jsessionid)\n",
    "\n",
    "token = Auth.get_token(vmanage_host, vmanage_port, jsessionid)\n",
    "print(\"main token\", token)\n",
    "       \n",
    "if token is not None:\n",
    "       header = {'Content-Type': \"application/json\", 'Cookie': jsessionid, 'X-XSRF-TOKEN': token}\n",
    "else:\n",
    "    header = {'Content-Type': \"application/json\", 'Cookie': jsessionid}\n",
    "\n",
    "\n",
    "  \n",
    "#device list in json\n",
    "url = \"https://\" + vmanage_host + \":\" + vmanage_port + \"/dataservice/device\"\n",
    "payload={}\n",
    "response = requests.request(\"Get\", url, headers=header, data=payload, verify=False)\n",
    "print(response.text)\n",
    " \n",
    " \n",
    "#Get Device Templates\n",
    "url = \"https://184.169.141.21:443/dataservice/template/device\"\n",
    "\n",
    "payload={}\n",
    "headers = {\n",
    "  'Accept': 'application/json',\n",
    "  'X-XSRF-TOKEN': token,\n",
    "  'Cookie': jsessionid\n",
    "}\n",
    "\n",
    "response = requests.request(\"GET\", url, headers=headers, data=payload, verify=False)\n",
    "\n",
    "\n",
    "\n",
    "\n",
    "       \n",
    "       \n",
    "       \n",
    "       \n",
    "\n",
    "\n",
    "\n",
    "\n",
    "\n",
    "\n"
   ]
  },
  {
   "cell_type": "code",
   "execution_count": null,
   "id": "a694ce45",
   "metadata": {
    "pycharm": {
     "name": "#%%\n"
    }
   },
   "outputs": [],
   "source": []
  }
 ],
 "metadata": {
  "kernelspec": {
   "display_name": "Python 3 (ipykernel)",
   "language": "python",
   "name": "python3"
  },
  "language_info": {
   "codemirror_mode": {
    "name": "ipython",
    "version": 3
   },
   "file_extension": ".py",
   "mimetype": "text/x-python",
   "name": "python",
   "nbconvert_exporter": "python",
   "pygments_lexer": "ipython3",
   "version": "3.11.1"
  }
 },
 "nbformat": 4,
 "nbformat_minor": 5
}