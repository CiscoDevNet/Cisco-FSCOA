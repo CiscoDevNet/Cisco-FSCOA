{
 "cells": [
  {
   "cell_type": "code",
   "execution_count": 16,
   "id": "bcdad25b",
   "metadata": {},
   "outputs": [
    {
     "name": "stdout",
     "output_type": "stream",
     "text": [
      "headers, cookies\n",
      "main jsession id JSESSIONID=dcG0LB3wbre55TfFqplbDW-vl8xGwJzL57jwdYW-.a68a9a7c-c40f-4e12-b308-f3505ddbb00a\n",
      "token 623EA61D9D7F6AB64080907E15D8BB40CB10F3D3BAA8A227FD1C87A06661AD907D857F0A82730BFFE99755F5CD1AF2A9D1A2\n",
      "main token 623EA61D9D7F6AB64080907E15D8BB40CB10F3D3BAA8A227FD1C87A06661AD907D857F0A82730BFFE99755F5CD1AF2A9D1A2\n",
      "{\"header\":{\"generatedOn\":1684770622468,\"viewKeys\":{\"uniqueKey\":[\"system-ip\"],\"preferenceKey\":\"grid-DeviceMultitenant\"},\"columns\":[{\"title\":\"Hostname\",\"property\":\"host-name\",\"display\":\"iconAndText\",\"iconProperty\":\"device-type\",\"hideable\":false,\"icon\":[{\"key\":\"vmanage\",\"value\":\"images/vmanage_table.png\"},{\"key\":\"vedge\",\"value\":\"images/vedge_table.png\"},{\"key\":\"vedge-vbond\",\"value\":\"images/vedge-vbond_table.png\"},{\"key\":\"vsmart\",\"value\":\"images/vsmart_table.png\"},{\"key\":\"vbond\",\"value\":\"images/vbond_table.png\"}],\"width\":150,\"dataType\":\"string\"},{\"title\":\"State\",\"property\":\"state\",\"display\":\"iconAndToolTip\",\"iconProperty\":\"state\",\"toolTipProperty\":\"state_description\",\"defaultPropertyKey\":\"reachability\",\"defaultPropertyValue\":\"reachable\",\"icon\":[{\"key\":\"green\",\"value\":\"images/device_state_green.png\"},{\"key\":\"red\",\"value\":\"images/device_state_red.png\"},{\"key\":\"yellow\",\"value\":\"images/device_state_yellow.png\"},{\"key\":\"default\",\"value\":\"images/device_state_other.png\"}],\"width\":20,\"dataType\":\"string\"},{\"title\":\"System IP\",\"property\":\"local-system-ip\",\"width\":110,\"dataType\":\"ipv4\"},{\"title\":\"vManage System IP\",\"property\":\"system-ip\",\"visible\":false,\"width\":110,\"dataType\":\"ipv4\"},{\"title\":\"Reachability\",\"property\":\"reachability\",\"display\":\"multiColumns\",\"color\":[{\"key\":\"reachable\",\"value\":\"616161\",\"property\":\"reachability\"},{\"key\":\"unreachable\",\"value\":\"ef5350\",\"property\":\"reachability\"},{\"key\":\"auth-failed\",\"value\":\"ffb300\",\"property\":\"reachability\"},{\"key\":\"staging\",\"value\":\"ffb300\",\"property\":\"validity\"}],\"width\":150,\"minWidth\":150,\"dataType\":\"string\"},{\"title\":\"Site ID\",\"property\":\"site-id\",\"width\":70,\"dataType\":\"numberStr\"},{\"title\":\"Device Model\",\"property\":\"device-model\",\"display\":\"multiColumns\",\"width\":100,\"dataType\":\"deviceModel\"},{\"title\":\"BFD\",\"property\":\"bfdSessions\",\"width\":75,\"minWidth\":65,\"dataType\":\"numberStr\"},{\"title\":\"Control\",\"property\":\"controlConnections\",\"width\":75,\"minWidth\":65,\"dataType\":\"numberStr\"},{\"title\":\"Version\",\"property\":\"version\",\"width\":150,\"dataType\":\"string\"},{\"title\":\"Up Since\",\"property\":\"uptime-date\",\"displayFormat\":\"DD MMM YYYY h:mm:ss A z\",\"inputFormat\":\"unix-time\",\"width\":200,\"dataType\":\"date\"},{\"title\":\"Chassis Number/ID\",\"property\":\"uuid\",\"width\":220,\"dataType\":\"string\"},{\"title\":\"Device Groups\",\"property\":\"device-groups\",\"width\":100,\"dataType\":\"array\"},{\"title\":\"Connected vManage\",\"property\":\"connectedVManages\",\"visible\":true,\"width\":500,\"dataType\":\"array\"}],\"fields\":[{\"property\":\"host-name\",\"dataType\":\"string\",\"display\":\"iconAndText\"},{\"property\":\"state\",\"dataType\":\"string\",\"display\":\"iconAndToolTip\"},{\"property\":\"local-system-ip\",\"dataType\":\"ipv4\"},{\"property\":\"system-ip\",\"dataType\":\"ipv4\"},{\"property\":\"reachability\",\"dataType\":\"string\",\"display\":\"multiColumns\"},{\"property\":\"site-id\",\"dataType\":\"numberStr\"},{\"property\":\"device-model\",\"dataType\":\"deviceModel\",\"display\":\"multiColumns\"},{\"property\":\"bfdSessions\",\"dataType\":\"numberStr\"},{\"property\":\"controlConnections\",\"dataType\":\"numberStr\"},{\"property\":\"version\",\"dataType\":\"string\"},{\"property\":\"number-vsmart-peers\",\"dataType\":\"number\"},{\"property\":\"uptime-date\",\"dataType\":\"date\"},{\"property\":\"uuid\",\"dataType\":\"string\"},{\"property\":\"board-serial\",\"dataType\":\"string\"},{\"property\":\"device-groups\",\"dataType\":\"array\"},{\"property\":\"connectedVManages\",\"dataType\":\"array\"},{\"property\":\"lastupdated\",\"dataType\":\"date\"}]},\"data\":[{\"deviceId\":\"169.254.10.1\",\"system-ip\":\"169.254.10.1\",\"host-name\":\"vmanage_1\",\"reachability\":\"reachable\",\"status\":\"normal\",\"personality\":\"vmanage\",\"device-type\":\"vmanage\",\"timezone\":\"UTC\",\"device-groups\":[\"No groups\"],\"lastupdated\":1684760584530,\"domain-id\":\"0\",\"board-serial\":\"5BA51CB888793D98B1A5621B7BCCE63B2CEEAD6B\",\"certificate-validity\":\"Valid\",\"max-controllers\":\"0\",\"uuid\":\"a68a9a7c-c40f-4e12-b308-f3505ddbb00a\",\"controlConnections\":\"5\",\"device-model\":\"vmanage\",\"version\":\"20.11.1\",\"connectedVManages\":[\"169.254.10.1\"],\"site-id\":\"1\",\"latitude\":\"37.666684\",\"longitude\":\"-122.777023\",\"isDeviceGeoData\":false,\"platform\":\"x86_64\",\"uptime-date\":1684760220000,\"statusOrder\":4,\"device-os\":\"next\",\"validity\":\"valid\",\"state\":\"green\",\"state_description\":\"All daemons up\",\"model_sku\":\"None\",\"local-system-ip\":\"172.16.1.11\",\"total_cpu_count\":\"16\",\"testbed_mode\":false,\"layoutLevel\":1},{\"deviceId\":\"169.254.10.3\",\"system-ip\":\"169.254.10.3\",\"host-name\":\"vmanage_2\",\"reachability\":\"reachable\",\"status\":\"normal\",\"personality\":\"vmanage\",\"device-type\":\"vmanage\",\"timezone\":\"UTC\",\"device-groups\":[\"No groups\"],\"lastupdated\":1684760572175,\"domain-id\":\"0\",\"board-serial\":\"5BA51CB888793D98B1A5621B7BCCE63B2CEEAD6D\",\"certificate-validity\":\"Valid\",\"max-controllers\":\"0\",\"uuid\":\"04d429ff-c961-47c7-ab30-547f302af736\",\"controlConnections\":\"5\",\"device-model\":\"vmanage\",\"version\":\"20.11.1\",\"connectedVManages\":[\"169.254.10.3\"],\"site-id\":\"1\",\"latitude\":\"37.666684\",\"longitude\":\"-122.777023\",\"isDeviceGeoData\":false,\"platform\":\"x86_64\",\"uptime-date\":1684760220000,\"statusOrder\":4,\"device-os\":\"next\",\"validity\":\"valid\",\"state\":\"green\",\"state_description\":\"All daemons up\",\"model_sku\":\"None\",\"local-system-ip\":\"172.16.1.12\",\"total_cpu_count\":\"16\",\"testbed_mode\":false,\"layoutLevel\":1},{\"deviceId\":\"169.254.10.2\",\"system-ip\":\"169.254.10.2\",\"host-name\":\"vmanage_3\",\"reachability\":\"reachable\",\"status\":\"normal\",\"personality\":\"vmanage\",\"device-type\":\"vmanage\",\"timezone\":\"UTC\",\"device-groups\":[\"No groups\"],\"lastupdated\":1684760576305,\"domain-id\":\"0\",\"board-serial\":\"5BA51CB888793D98B1A5621B7BCCE63B2CEEAD6C\",\"certificate-validity\":\"Valid\",\"max-controllers\":\"0\",\"uuid\":\"87776201-6ea9-4e3a-90cc-bd7557d2ae95\",\"controlConnections\":\"5\",\"device-model\":\"vmanage\",\"version\":\"20.11.1\",\"connectedVManages\":[\"169.254.10.2\"],\"site-id\":\"1\",\"latitude\":\"37.666684\",\"longitude\":\"-122.777023\",\"isDeviceGeoData\":false,\"platform\":\"x86_64\",\"uptime-date\":1684760220000,\"statusOrder\":4,\"device-os\":\"next\",\"validity\":\"valid\",\"state\":\"green\",\"state_description\":\"All daemons up\",\"model_sku\":\"None\",\"local-system-ip\":\"172.16.1.13\",\"total_cpu_count\":\"16\",\"testbed_mode\":false,\"layoutLevel\":1},{\"deviceId\":\"169.254.10.6\",\"system-ip\":\"169.254.10.6\",\"host-name\":\"vsmart_1\",\"reachability\":\"reachable\",\"status\":\"normal\",\"personality\":\"vsmart\",\"device-type\":\"vsmart\",\"timezone\":\"UTC\",\"device-groups\":[\"No groups\"],\"lastupdated\":1684761157223,\"domain-id\":\"1\",\"board-serial\":\"5BA51CB888793D98B1A5621B7BCCE63B2CEEAD70\",\"certificate-validity\":\"Valid\",\"uuid\":\"4002940b-37c4-4db9-bfdf-e24896c10096\",\"controlConnections\":\"12\",\"device-model\":\"vsmart\",\"version\":\"20.11.1\",\"connectedVManages\":[\"169.254.10.1\",\"169.254.10.2\",\"169.254.10.3\"],\"site-id\":\"1\",\"ompPeers\":\"0\",\"latitude\":\"37.666684\",\"longitude\":\"-122.777023\",\"isDeviceGeoData\":false,\"platform\":\"x86_64\",\"uptime-date\":1684760220000,\"statusOrder\":4,\"device-os\":\"next\",\"validity\":\"valid\",\"state\":\"green\",\"state_description\":\"All daemons up\",\"model_sku\":\"None\",\"local-system-ip\":\"172.16.1.103\",\"total_cpu_count\":\"16\",\"testbed_mode\":false,\"layoutLevel\":2},{\"deviceId\":\"169.254.10.7\",\"system-ip\":\"169.254.10.7\",\"host-name\":\"vsmart_2\",\"reachability\":\"reachable\",\"status\":\"normal\",\"personality\":\"vsmart\",\"device-type\":\"vsmart\",\"timezone\":\"UTC\",\"device-groups\":[\"No groups\"],\"lastupdated\":1684761157188,\"domain-id\":\"1\",\"board-serial\":\"5BA51CB888793D98B1A5621B7BCCE63B2CEEAD71\",\"certificate-validity\":\"Valid\",\"uuid\":\"5b5e6ce9-fc72-46db-8e3d-2ccddc39066f\",\"controlConnections\":\"12\",\"device-model\":\"vsmart\",\"version\":\"20.11.1\",\"connectedVManages\":[\"169.254.10.1\",\"169.254.10.2\",\"169.254.10.3\"],\"site-id\":\"1\",\"ompPeers\":\"0\",\"latitude\":\"37.666684\",\"longitude\":\"-122.777023\",\"isDeviceGeoData\":false,\"platform\":\"x86_64\",\"uptime-date\":1684760220000,\"statusOrder\":4,\"device-os\":\"next\",\"validity\":\"valid\",\"state\":\"green\",\"state_description\":\"All daemons up\",\"model_sku\":\"None\",\"local-system-ip\":\"172.16.1.104\",\"total_cpu_count\":\"16\",\"testbed_mode\":false,\"layoutLevel\":2},{\"deviceId\":\"169.254.10.4\",\"system-ip\":\"169.254.10.4\",\"host-name\":\"vbond_1\",\"reachability\":\"reachable\",\"status\":\"normal\",\"personality\":\"vbond\",\"device-type\":\"vbond\",\"timezone\":\"UTC\",\"device-groups\":[\"No groups\"],\"lastupdated\":1684760576496,\"board-serial\":\"5BA51CB888793D98B1A5621B7BCCE63B2CEEAD6E\",\"certificate-validity\":\"Valid\",\"uuid\":\"2ee8d8e5-5ec4-4a1d-b3c7-ea5268d0d72d\",\"device-model\":\"vedge-cloud\",\"version\":\"20.11.1\",\"connectedVManages\":[\"169.254.10.3\",\"169.254.10.1\",\"169.254.10.2\"],\"site-id\":\"1\",\"latitude\":\"37.666684\",\"longitude\":\"-122.777023\",\"isDeviceGeoData\":false,\"platform\":\"x86_64\",\"uptime-date\":1684760220000,\"statusOrder\":4,\"device-os\":\"next\",\"validity\":\"valid\",\"state\":\"green\",\"state_description\":\"All daemons up\",\"model_sku\":\"None\",\"local-system-ip\":\"172.16.1.102\",\"total_cpu_count\":\"16\",\"linux_cpu_count\":\"1\",\"testbed_mode\":false,\"layoutLevel\":3}]}\n"
     ]
    },
    {
     "name": "stdout",
     "output_type": "stream",
     "text": [
      "{\"header\":{\"generatedOn\":1684770622738,\"viewKeys\":{\"uniqueKey\":[],\"preferenceKey\":\"grid-TemplateMasterWithFeature\"},\"columns\":[{\"title\":\"Name\",\"property\":\"templateName\",\"hideable\":false,\"dataType\":\"string\"},{\"title\":\"Description\",\"property\":\"templateDescription\",\"dataType\":\"string\"},{\"title\":\"Type\",\"property\":\"configType\",\"display\":\"keyvalue\",\"keyvalueProperty\":\"configType\",\"hideable\":false,\"keyvalue\":[{\"key\":\"file\",\"value\":\"CLI\"},{\"key\":\"template\",\"value\":\"Feature\"}],\"dataType\":\"string\"},{\"title\":\"Device Model\",\"property\":\"deviceType\",\"display\":\"keyvalue\",\"keyvalueProperty\":\"deviceType\",\"hideable\":false,\"minWidth\":100,\"dataType\":\"string\"},{\"title\":\"Device Role\",\"property\":\"deviceRole\",\"display\":\"keyvalue\",\"keyvalueProperty\":\"deviceRole\",\"hideable\":false,\"keyvalue\":[{\"key\":\"sdwan-edge\",\"value\":\"SDWAN Edge\"},{\"key\":\"service-node\",\"value\":\"Service Node\"}],\"minWidth\":100,\"dataType\":\"string\"},{\"title\":\"Feature Templates\",\"property\":\"templateAttached\",\"dataType\":\"string\"},{\"title\":\"Draft Mode\",\"property\":\"draftMode\",\"dataType\":\"string\"},{\"title\":\"Devices Attached\",\"property\":\"devicesAttached\",\"display\":\"deviceLinkCell\",\"dataType\":\"number\"},{\"title\":\"Updated By\",\"property\":\"lastUpdatedBy\",\"dataType\":\"string\"},{\"title\":\"Last Updated\",\"property\":\"lastUpdatedOn\",\"displayFormat\":\"DD MMM YYYY h:mm:ss A z\",\"inputFormat\":\"unix-time\",\"dataType\":\"date\"}],\"fields\":[{\"property\":\"templateName\",\"dataType\":\"string\"},{\"property\":\"templateDescription\",\"dataType\":\"string\"},{\"property\":\"configType\",\"dataType\":\"string\",\"display\":\"keyvalue\"},{\"property\":\"deviceType\",\"dataType\":\"string\",\"display\":\"keyvalue\"},{\"property\":\"deviceRole\",\"dataType\":\"string\",\"display\":\"keyvalue\"},{\"property\":\"templateAttached\",\"dataType\":\"string\"},{\"property\":\"draftMode\",\"dataType\":\"string\"},{\"property\":\"devicesAttached\",\"dataType\":\"number\",\"display\":\"deviceLinkCell\"},{\"property\":\"lastUpdatedBy\",\"dataType\":\"string\"},{\"property\":\"lastUpdatedOn\",\"dataType\":\"date\"}]},\"data\":[{\"deviceType\":\"vsmart\",\"lastUpdatedBy\":\"admin\",\"resourceGroup\":\"global\",\"templateClass\":\"vedge\",\"configType\":\"file\",\"templateId\":\"e0219d2d-41b4-481b-af2f-eecd89506f9d\",\"factoryDefault\":false,\"templateName\":\"vSmart_vmanage_mode_v1\",\"devicesAttached\":1,\"templateDescription\":\"vSmart_vmanage_mode\",\"draftMode\":\"Disabled\",\"lastUpdatedOn\":1684532020295,\"templateAttached\":0},{\"deviceType\":\"vsmart\",\"lastUpdatedBy\":\"admin\",\"resourceGroup\":\"global\",\"templateClass\":\"vedge\",\"configType\":\"file\",\"templateId\":\"bf3f1a44-feb9-494b-97c2-450be319dd23\",\"factoryDefault\":false,\"templateName\":\"vSmart_2_vmanage_mode_v1\",\"devicesAttached\":1,\"templateDescription\":\"vSmart_2_vmanage_mode_v1\",\"draftMode\":\"Disabled\",\"lastUpdatedOn\":1684532480542,\"templateAttached\":0},{\"deviceType\":\"vedge-cloud\",\"lastUpdatedBy\":\"admin\",\"resourceGroup\":\"global\",\"templateClass\":\"vedge\",\"configType\":\"file\",\"templateId\":\"72fc9df6-19e5-44ad-9167-2225b6d0bca5\",\"factoryDefault\":false,\"templateName\":\"vbond_1\",\"devicesAttached\":1,\"templateDescription\":\"vbond_1\",\"draftMode\":\"Disabled\",\"lastUpdatedOn\":1684533663381,\"templateAttached\":0},{\"deviceType\":\"vedge-cloud\",\"lastUpdatedBy\":\"admin\",\"resourceGroup\":\"global\",\"templateClass\":\"vedge\",\"configType\":\"file\",\"templateId\":\"6397c9e5-bf4e-4ef9-91f2-37bb9a6e0176\",\"factoryDefault\":false,\"templateName\":\"vbond_2\",\"devicesAttached\":1,\"templateDescription\":\"vbond_2\",\"draftMode\":\"Disabled\",\"lastUpdatedOn\":1684533649011,\"templateAttached\":0},{\"deviceType\":\"vedge-C8000V\",\"lastUpdatedBy\":\"system\",\"resourceGroup\":\"global\",\"deviceRole\":\"sdwan-edge\",\"templateClass\":\"cedge\",\"configType\":\"template\",\"templateId\":\"9a3d6d79-1568-434b-906f-30b0d97a8110\",\"factoryDefault\":true,\"templateName\":\"Default_AWS_TGW_C8000V_Template_V01\",\"devicesAttached\":0,\"templateDescription\":\"Default device template for AWS TGW C8000V\",\"lastUpdatedOn\":1684511378791,\"templateAttached\":11,\"draftMode\":\"Disabled\"},{\"deviceType\":\"vedge-CSR-1000v\",\"lastUpdatedBy\":\"system\",\"resourceGroup\":\"global\",\"deviceRole\":\"sdwan-edge\",\"templateClass\":\"cedge\",\"configType\":\"template\",\"templateId\":\"fcdf0426-562a-4355-9484-4f220e9fdb45\",\"factoryDefault\":true,\"templateName\":\"Default_AWS_TGW_CSR1000V_Template_V01\",\"devicesAttached\":0,\"templateDescription\":\"Default device template for AWS TGW CSR1000V\",\"lastUpdatedOn\":1684511380620,\"templateAttached\":11,\"draftMode\":\"Disabled\"},{\"deviceType\":\"vedge-C8000V\",\"lastUpdatedBy\":\"system\",\"resourceGroup\":\"global\",\"deviceRole\":\"sdwan-edge\",\"templateClass\":\"cedge\",\"configType\":\"template\",\"templateId\":\"469b63eb-d491-4180-bcc5-120580936c04\",\"factoryDefault\":true,\"templateName\":\"Default_Azure_vWAN_C8000V_Template_V01\",\"devicesAttached\":0,\"templateDescription\":\"Default device template for Azure vWAN C8000V\",\"lastUpdatedOn\":1684511381359,\"templateAttached\":11,\"draftMode\":\"Disabled\"},{\"deviceType\":\"vedge-C8000V\",\"lastUpdatedBy\":\"system\",\"resourceGroup\":\"global\",\"deviceRole\":\"sdwan-edge\",\"templateClass\":\"cedge\",\"configType\":\"template\",\"templateId\":\"7333e065-c181-4869-b567-5cde613a4ca2\",\"factoryDefault\":true,\"templateName\":\"Default_BOOTSTRAP_DHCP_8000V_Template_V01\",\"devicesAttached\":0,\"templateDescription\":\"Default device template for onboarding C8000V devices with dhcp configurations\",\"lastUpdatedOn\":1684511382001,\"templateAttached\":11,\"draftMode\":\"Disabled\"},{\"deviceType\":\"vedge-C8000V\",\"lastUpdatedBy\":\"system\",\"resourceGroup\":\"global\",\"deviceRole\":\"sdwan-edge\",\"templateClass\":\"cedge\",\"configType\":\"template\",\"templateId\":\"aca67b2a-4d56-4205-9c32-babf9ac4fc39\",\"factoryDefault\":true,\"templateName\":\"Default_BOOTSTRAP_STATIC_8000V_Template_V01\",\"devicesAttached\":0,\"templateDescription\":\"Default device template for AWS TGW C8000V\",\"lastUpdatedOn\":1684511383215,\"templateAttached\":10,\"draftMode\":\"Disabled\"},{\"deviceType\":\"vedge-CSR-1000v\",\"lastUpdatedBy\":\"system\",\"resourceGroup\":\"global\",\"deviceRole\":\"sdwan-edge\",\"templateClass\":\"cedge\",\"configType\":\"template\",\"templateId\":\"5dd51f9f-9c3f-4d1a-b417-658a235f11fa\",\"factoryDefault\":true,\"templateName\":\"Default_EQUINIX_DHCP_DNS_ICGW_CSR1000V_Template_V02\",\"devicesAttached\":0,\"templateDescription\":\"Default DHCP DNS device template for Equinix Interconnect Gateway CSR1000V\",\"lastUpdatedOn\":1684511383309,\"templateAttached\":11,\"draftMode\":\"Disabled\"},{\"deviceType\":\"vedge-C8000V\",\"lastUpdatedBy\":\"system\",\"resourceGroup\":\"global\",\"deviceRole\":\"sdwan-edge\",\"templateClass\":\"cedge\",\"configType\":\"template\",\"templateId\":\"95994956-8924-433a-8858-c40e63f8e4fb\",\"factoryDefault\":true,\"templateName\":\"Default_GCP_C8000V_Template_V01\",\"devicesAttached\":0,\"templateDescription\":\"Default device template for GCP C8000V\",\"lastUpdatedOn\":1684511380684,\"templateAttached\":10,\"draftMode\":\"Disabled\"},{\"deviceType\":\"vedge-C8000V\",\"lastUpdatedBy\":\"system\",\"resourceGroup\":\"global\",\"deviceRole\":\"sdwan-edge\",\"templateClass\":\"cedge\",\"configType\":\"template\",\"templateId\":\"e17c9349-de8d-4356-a64d-fa64b8159660\",\"factoryDefault\":true,\"templateName\":\"Default_MEGAPORT_ICGW_C8000V_Template_V01\",\"devicesAttached\":0,\"templateDescription\":\"Default device template for Megaport Interconnect Gateway C8000V\",\"lastUpdatedOn\":1684511382666,\"templateAttached\":9,\"draftMode\":\"Disabled\"},{\"deviceType\":\"vedge-C8000V\",\"lastUpdatedBy\":\"system\",\"resourceGroup\":\"global\",\"deviceRole\":\"sdwan-edge\",\"templateClass\":\"cedge\",\"configType\":\"template\",\"templateId\":\"144ccc59-bc07-42c4-bc33-1cac56e4ca4b\",\"factoryDefault\":true,\"templateName\":\"Default_SDBranch_C8000V_Template_V01\",\"devicesAttached\":0,\"templateDescription\":\"Default device template for SD Branch C8000V\",\"lastUpdatedOn\":1684511377826,\"templateAttached\":16,\"draftMode\":\"Disabled\"},{\"deviceType\":\"vedge-ISRv\",\"lastUpdatedBy\":\"system\",\"resourceGroup\":\"global\",\"deviceRole\":\"sdwan-edge\",\"templateClass\":\"cedge\",\"configType\":\"template\",\"templateId\":\"d0348ebd-d813-462a-956d-6cb161a54c96\",\"factoryDefault\":true,\"templateName\":\"Default_SDBranch_ISRv_Template_V01\",\"devicesAttached\":0,\"templateDescription\":\"Default device template for SD Branch ISRv\",\"lastUpdatedOn\":1684511382331,\"templateAttached\":16,\"draftMode\":\"Disabled\"},{\"deviceType\":\"vedge-cloud\",\"lastUpdatedBy\":\"system\",\"resourceGroup\":\"global\",\"deviceRole\":\"sdwan-edge\",\"templateClass\":\"vedge\",\"configType\":\"template\",\"templateId\":\"493ca1ac-9f29-4c73-ac97-d598aed4fd83\",\"factoryDefault\":true,\"templateName\":\"Default_SDBranch_vEdge_cloud_Template_V01\",\"devicesAttached\":0,\"templateDescription\":\"Default device template for SD Branch vedge cloud\",\"lastUpdatedOn\":1684511379782,\"templateAttached\":14,\"draftMode\":\"Disabled\"},{\"deviceType\":\"vedge-C8000V\",\"lastUpdatedBy\":\"system\",\"resourceGroup\":\"global\",\"deviceRole\":\"sdwan-edge\",\"templateClass\":\"cedge\",\"configType\":\"template\",\"templateId\":\"15e293f3-5998-4828-8d72-0b1f66d37de9\",\"factoryDefault\":true,\"templateName\":\"Factory_Default_1_TLOC_Branch_Template\",\"devicesAttached\":0,\"templateDescription\":\"Factory Default 1 TLOC Branch Template for CSR C8000V\",\"lastUpdatedOn\":1684511381288,\"templateAttached\":17,\"draftMode\":\"Disabled\"},{\"deviceType\":\"vedge-C1111-8PLTELA\",\"lastUpdatedBy\":\"system\",\"resourceGroup\":\"global\",\"deviceRole\":\"sdwan-edge\",\"templateClass\":\"cedge\",\"configType\":\"template\",\"templateId\":\"7949d736-e1de-4581-8696-34ffe17b2c53\",\"factoryDefault\":true,\"templateName\":\"Factory_Default_C1111_8PLTELA_V01\",\"devicesAttached\":0,\"templateDescription\":\"Factory Default template for C1111-8PLTELA\",\"lastUpdatedOn\":1684511378849,\"templateAttached\":15,\"draftMode\":\"Disabled\"},{\"deviceType\":\"vedge-C8000V\",\"lastUpdatedBy\":\"system\",\"resourceGroup\":\"global\",\"deviceRole\":\"sdwan-edge\",\"templateClass\":\"cedge\",\"configType\":\"template\",\"templateId\":\"e40860ad-87f6-4235-9cc6-61cea78dfb2e\",\"factoryDefault\":true,\"templateName\":\"Factory_Default_C8000V_V01\",\"devicesAttached\":0,\"templateDescription\":\"Factory Default template for  C8000V\",\"lastUpdatedOn\":1684511383839,\"templateAttached\":22,\"draftMode\":\"Disabled\"},{\"deviceType\":\"vedge-C8000V\",\"lastUpdatedBy\":\"system\",\"resourceGroup\":\"global\",\"deviceRole\":\"sdwan-edge\",\"templateClass\":\"cedge\",\"configType\":\"template\",\"templateId\":\"4c3a59ec-9504-4af5-9555-8f1d220d413a\",\"factoryDefault\":true,\"templateName\":\"Factory_Default_DC1_HUB\",\"devicesAttached\":0,\"templateDescription\":\"Factory Default DC1 HUB for CSR C8000V\",\"lastUpdatedOn\":1684511379504,\"templateAttached\":19,\"draftMode\":\"Disabled\"},{\"deviceType\":\"vedge-ISR-4331\",\"lastUpdatedBy\":\"system\",\"resourceGroup\":\"global\",\"deviceRole\":\"sdwan-edge\",\"templateClass\":\"cedge\",\"configType\":\"template\",\"templateId\":\"86c96c32-71ab-432a-964a-ed29db3945e9\",\"factoryDefault\":true,\"templateName\":\"Factory_Default_ISR_4331_V01\",\"devicesAttached\":0,\"templateDescription\":\"Factory Default template for ISR4331 device\",\"lastUpdatedOn\":1684511377756,\"templateAttached\":14,\"draftMode\":\"Disabled\"}]}\n"
     ]
    }
   ],
   "source": [
    "#credit to https://drive.google.com/drive/folders/1jknduoqpTljcf2N9Dq9d9-YIXfz-4yYu\n",
    "class Authentication:\n",
    "    @staticmethod\n",
    "    def get_jsessionid(vmanage_host, vmanage_port, username, password):\n",
    "        api = \"/j_security_check\"\n",
    "        base_url = \"https://%s:%s\" % (vmanage_host, vmanage_port)\n",
    "        url = base_url + api\n",
    "        payload = {'j_username': username, 'j_password': password}\n",
    "        \n",
    "        response = requests.post(url=url, data=payload, verify=False)\n",
    "        try:\n",
    "            cookies = response.headers[\"Set-Cookie\"]\n",
    "            print(\"headers, cookies\")\n",
    "            jsessionid = cookies.split(\";\")\n",
    "            return(jsessionid[0])\n",
    "        except:\n",
    "            [print(\"No Valid JSESSION ID returned\\n\")]\n",
    "            exit()\n",
    "            \n",
    "    @staticmethod\n",
    "    def get_token(vmanage_host, vmanage_port, jsessionid):\n",
    "        headers = {'Cookie': jsessionid}\n",
    "        base_url = \"https://%s:%s\" % (vmanage_host, vmanage_port)\n",
    "        api = \"/dataservice/client/token\"\n",
    "        url = base_url + api\n",
    "        response = requests.get(url=url, headers=headers, verify=False)\n",
    "        if response.status_code == 200:\n",
    "            print(\"token\", response.text)\n",
    "            return(response.text)\n",
    "        else:\n",
    "            return None\n",
    "\n",
    "import requests, json, urllib3\n",
    "urllib3.disable_warnings()\n",
    "vmanage_port = \"8443\"\n",
    "vmanage_host = \"184.169.141.21\"\n",
    "vmanage_username = \"admin\"\n",
    "vmanage_password = \"admin1\"\n",
    "\n",
    "Auth = Authentication()\n",
    "jsessionid = Auth.get_jsessionid(vmanage_host, vmanage_port, vmanage_username, vmanage_password)\n",
    "print(\"main jsession id\", jsessionid)\n",
    "\n",
    "token = Auth.get_token(vmanage_host, vmanage_port, jsessionid)\n",
    "print(\"main token\", token)\n",
    "       \n",
    "if token is not None:\n",
    "       header = {'Content-Type': \"application/json\", 'Cookie': jsessionid, 'X-XSRF-TOKEN': token}\n",
    "else:\n",
    "    header = {'Content-Type': \"application/json\", 'Cookie': jsessionid}\n",
    "       \n",
    "#device list in json\n",
    "url = \"https://\" + vmanage_host + \":\" + vmanage_port + \"/dataservice/device\"\n",
    "payload={}\n",
    "response = requests.request(\"Get\", url, headers=header, data=payload, verify=False)\n",
    "print(response.text)\n",
    "       \n",
    "#Get Device Templates\n",
    "url = \"https://184.169.141.21:443/dataservice/template/device\"\n",
    "\n",
    "payload={}\n",
    "headers = {\n",
    "  'Accept': 'application/json',\n",
    "  'X-XSRF-TOKEN': token,\n",
    "  'Cookie': jsessionid\n",
    "}\n",
    "\n",
    "response = requests.request(\"GET\", url, headers=headers, data=payload, verify=False)\n",
    "\n",
    "print(response.text)       \n",
    "       \n",
    "       \n",
    "       \n",
    "       \n",
    "\n",
    "\n",
    "\n",
    "\n",
    "\n"
   ]
  },
  {
   "cell_type": "code",
   "execution_count": null,
   "id": "43498571",
   "metadata": {},
   "outputs": [],
   "source": []
  }
 ],
 "metadata": {
  "kernelspec": {
   "display_name": "Python 3 (ipykernel)",
   "language": "python",
   "name": "python3"
  },
  "language_info": {
   "codemirror_mode": {
    "name": "ipython",
    "version": 3
   },
   "file_extension": ".py",
   "mimetype": "text/x-python",
   "name": "python",
   "nbconvert_exporter": "python",
   "pygments_lexer": "ipython3",
   "version": "3.11.1"
  }
 },
 "nbformat": 4,
 "nbformat_minor": 5
}
