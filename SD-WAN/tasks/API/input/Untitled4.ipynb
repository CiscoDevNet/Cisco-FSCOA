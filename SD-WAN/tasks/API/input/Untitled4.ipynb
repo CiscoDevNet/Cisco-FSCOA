{
 "cells": [
  {
   "cell_type": "code",
   "execution_count": 47,
   "id": "2021d040",
   "metadata": {},
   "outputs": [
    {
     "name": "stdout",
     "output_type": "stream",
     "text": [
      "headers, cookies\n",
      "main jsession id JSESSIONID=sv-VP_Mweya6NK9fkUoz1e2B--zhjsIu6abvvX0h.f2ffe0ae-fd3e-4dac-ae94-6fdbcf148716\n",
      "token 29447A1D3DBFFB374BA1B9D31D1D0C38572AB358510E0EA39C379AF045A41FD00F4C324F8553362A7258E0EBCD48F8FA1F00\n",
      "main token 29447A1D3DBFFB374BA1B9D31D1D0C38572AB358510E0EA39C379AF045A41FD00F4C324F8553362A7258E0EBCD48F8FA1F00\n"
     ]
    }
   ],
   "source": [
    "#credit to https://drive.google.com/drive/folders/1jknduoqpTljcf2N9Dq9d9-YIXfz-4yYu\n",
    "class Authentication:\n",
    "    @staticmethod\n",
    "    def get_jsessionid(vmanage_host, vmanage_port, username, password):\n",
    "        api = \"/j_security_check\"\n",
    "        base_url = \"https://%s:%s\" % (vmanage_host, vmanage_port)\n",
    "        url = base_url + api\n",
    "        payload = {'j_username': username, 'j_password': password}\n",
    "\n",
    "        response = requests.post(url=url, data=payload, verify=False)\n",
    "        try:\n",
    "            cookies = response.headers[\"Set-Cookie\"]\n",
    "            print(\"headers, cookies\")\n",
    "            jsessionid = cookies.split(\";\")\n",
    "            return(jsessionid[0])\n",
    "        except:\n",
    "            [print(\"No Valid JSESSION ID returned\\n\")]\n",
    "            exit()\n",
    "\n",
    "    @staticmethod\n",
    "    def get_token(vmanage_host, vmanage_port, jsessionid):\n",
    "        headers = {'Cookie': jsessionid}\n",
    "        base_url = \"https://%s:%s\" % (vmanage_host, vmanage_port)\n",
    "        api = \"/dataservice/client/token\"\n",
    "        url = base_url + api\n",
    "        response = requests.get(url=url, headers=headers, verify=False)\n",
    "        if response.status_code == 200:\n",
    "            print(\"token\", response.text)\n",
    "            return(response.text)\n",
    "        else:\n",
    "            return None\n",
    "\n",
    "import requests, json, urllib3\n",
    "urllib3.disable_warnings()\n",
    "vmanage_port = \"8443\"\n",
    "vmanage_host = \"44.229.107.56\"\n",
    "vmanage_username = \"admin\"\n",
    "vmanage_password = \"admin1\"\n",
    "\n",
    "Auth = Authentication()\n",
    "jsessionid = Auth.get_jsessionid(vmanage_host, vmanage_port, vmanage_username, vmanage_password)\n",
    "print(\"main jsession id\", jsessionid)\n",
    "\n",
    "token = Auth.get_token(vmanage_host, vmanage_port, jsessionid)\n",
    "print(\"main token\", token)\n",
    "\n",
    "if token is not None:\n",
    "    header = {'Content-Type': \"application/json\", 'Cookie': jsessionid, 'X-XSRF-TOKEN': token}\n",
    "else:\n",
    "    header = {'Content-Type': \"application/json\", 'Cookie': jsessionid}\n",
    "\n",
    "\n",
    "  "
   ]
  },
  {
   "cell_type": "code",
   "execution_count": 48,
   "id": "357b5dd6",
   "metadata": {},
   "outputs": [
    {
     "name": "stdout",
     "output_type": "stream",
     "text": [
      "{\"header\":{\"generatedOn\":1695832210339,\"viewKeys\":{\"uniqueKey\":[\"system-ip\"],\"preferenceKey\":\"grid-DeviceMultitenant\"},\"columns\":[{\"title\":\"Hostname\",\"property\":\"host-name\",\"display\":\"iconAndText\",\"iconProperty\":\"device-type\",\"hideable\":false,\"icon\":[{\"key\":\"vmanage\",\"value\":\"images/vmanage_table.png\"},{\"key\":\"vedge\",\"value\":\"images/vedge_table.png\"},{\"key\":\"vedge-vbond\",\"value\":\"images/vedge-vbond_table.png\"},{\"key\":\"vsmart\",\"value\":\"images/vsmart_table.png\"},{\"key\":\"vbond\",\"value\":\"images/vbond_table.png\"}],\"width\":150,\"dataType\":\"string\"},{\"title\":\"State\",\"property\":\"state\",\"display\":\"iconAndToolTip\",\"iconProperty\":\"state\",\"toolTipProperty\":\"state_description\",\"defaultPropertyKey\":\"reachability\",\"defaultPropertyValue\":\"reachable\",\"icon\":[{\"key\":\"green\",\"value\":\"images/device_state_green.png\"},{\"key\":\"red\",\"value\":\"images/device_state_red.png\"},{\"key\":\"yellow\",\"value\":\"images/device_state_yellow.png\"},{\"key\":\"default\",\"value\":\"images/device_state_other.png\"}],\"width\":20,\"dataType\":\"string\"},{\"title\":\"System IP\",\"property\":\"local-system-ip\",\"width\":110,\"dataType\":\"ipv4\"},{\"title\":\"vManage System IP\",\"property\":\"system-ip\",\"visible\":false,\"width\":110,\"dataType\":\"ipv4\"},{\"title\":\"Reachability\",\"property\":\"reachability\",\"display\":\"multiColumns\",\"color\":[{\"key\":\"reachable\",\"value\":\"616161\",\"property\":\"reachability\"},{\"key\":\"unreachable\",\"value\":\"ef5350\",\"property\":\"reachability\"},{\"key\":\"auth-failed\",\"value\":\"ffb300\",\"property\":\"reachability\"},{\"key\":\"staging\",\"value\":\"ffb300\",\"property\":\"validity\"}],\"width\":150,\"minWidth\":150,\"dataType\":\"string\"},{\"title\":\"Site ID\",\"property\":\"site-id\",\"width\":70,\"dataType\":\"numberStr\"},{\"title\":\"Device Model\",\"property\":\"device-model\",\"display\":\"multiColumns\",\"width\":100,\"dataType\":\"deviceModel\"},{\"title\":\"BFD\",\"property\":\"bfdSessions\",\"width\":75,\"minWidth\":65,\"dataType\":\"numberStr\"},{\"title\":\"Control\",\"property\":\"controlConnections\",\"width\":75,\"minWidth\":65,\"dataType\":\"numberStr\"},{\"title\":\"Version\",\"property\":\"version\",\"width\":150,\"dataType\":\"string\"},{\"title\":\"Up Since\",\"property\":\"uptime-date\",\"displayFormat\":\"DD MMM YYYY h:mm:ss A z\",\"inputFormat\":\"unix-time\",\"width\":200,\"dataType\":\"date\"},{\"title\":\"Chassis Number/ID\",\"property\":\"uuid\",\"width\":220,\"dataType\":\"string\"},{\"title\":\"Device Groups\",\"property\":\"device-groups\",\"width\":100,\"dataType\":\"array\"},{\"title\":\"Connected vManage\",\"property\":\"connectedVManages\",\"visible\":true,\"width\":500,\"dataType\":\"array\"}],\"fields\":[{\"property\":\"host-name\",\"dataType\":\"string\",\"display\":\"iconAndText\"},{\"property\":\"state\",\"dataType\":\"string\",\"display\":\"iconAndToolTip\"},{\"property\":\"local-system-ip\",\"dataType\":\"ipv4\"},{\"property\":\"system-ip\",\"dataType\":\"ipv4\"},{\"property\":\"reachability\",\"dataType\":\"string\",\"display\":\"multiColumns\"},{\"property\":\"site-id\",\"dataType\":\"numberStr\"},{\"property\":\"device-model\",\"dataType\":\"deviceModel\",\"display\":\"multiColumns\"},{\"property\":\"bfdSessions\",\"dataType\":\"numberStr\"},{\"property\":\"controlConnections\",\"dataType\":\"numberStr\"},{\"property\":\"version\",\"dataType\":\"string\"},{\"property\":\"number-vsmart-peers\",\"dataType\":\"number\"},{\"property\":\"uptime-date\",\"dataType\":\"date\"},{\"property\":\"uuid\",\"dataType\":\"string\"},{\"property\":\"board-serial\",\"dataType\":\"string\"},{\"property\":\"device-groups\",\"dataType\":\"array\"},{\"property\":\"connectedVManages\",\"dataType\":\"array\"},{\"property\":\"lastupdated\",\"dataType\":\"date\"}]},\"data\":[{\"deviceId\":\"169.254.10.1\",\"system-ip\":\"169.254.10.1\",\"host-name\":\"vmanage_1\",\"reachability\":\"reachable\",\"status\":\"normal\",\"personality\":\"vmanage\",\"device-type\":\"vmanage\",\"timezone\":\"UTC\",\"device-groups\":[\"No groups\"],\"lastupdated\":1695819207835,\"domain-id\":\"0\",\"board-serial\":\"5470033CD080D5D633F93A21E59C9C97A16F2A5B\",\"certificate-validity\":\"Valid\",\"max-controllers\":\"0\",\"uuid\":\"f2ffe0ae-fd3e-4dac-ae94-6fdbcf148716\",\"controlConnections\":\"7\",\"device-model\":\"vmanage\",\"version\":\"20.11.1\",\"connectedVManages\":[\"169.254.10.1\"],\"site-id\":\"1\",\"latitude\":\"37.666684\",\"longitude\":\"-122.777023\",\"isDeviceGeoData\":false,\"platform\":\"x86_64\",\"uptime-date\":1695807240000,\"statusOrder\":4,\"device-os\":\"next\",\"validity\":\"valid\",\"state\":\"green\",\"state_description\":\"All daemons up\",\"model_sku\":\"None\",\"local-system-ip\":\"172.16.1.11\",\"total_cpu_count\":\"16\",\"testbed_mode\":false,\"layoutLevel\":1},{\"deviceId\":\"169.254.10.2\",\"system-ip\":\"169.254.10.2\",\"host-name\":\"vmanage_2\",\"reachability\":\"reachable\",\"status\":\"normal\",\"personality\":\"vmanage\",\"device-type\":\"vmanage\",\"timezone\":\"UTC\",\"device-groups\":[\"No groups\"],\"lastupdated\":1695807602430,\"domain-id\":\"0\",\"board-serial\":\"5470033CD080D5D633F93A21E59C9C97A16F2A5C\",\"certificate-validity\":\"Valid\",\"max-controllers\":\"0\",\"uuid\":\"3aabd4a5-29e6-4a2a-aecf-2c860d82af75\",\"controlConnections\":\"6\",\"device-model\":\"vmanage\",\"version\":\"20.11.1\",\"connectedVManages\":[\"169.254.10.2\"],\"site-id\":\"1\",\"latitude\":\"37.666684\",\"longitude\":\"-122.777023\",\"isDeviceGeoData\":false,\"platform\":\"x86_64\",\"uptime-date\":1695807240000,\"statusOrder\":4,\"device-os\":\"next\",\"validity\":\"valid\",\"state\":\"green\",\"state_description\":\"All daemons up\",\"model_sku\":\"None\",\"local-system-ip\":\"172.16.1.12\",\"total_cpu_count\":\"16\",\"testbed_mode\":false,\"layoutLevel\":1},{\"deviceId\":\"169.254.10.3\",\"system-ip\":\"169.254.10.3\",\"host-name\":\"vmanage_3\",\"reachability\":\"reachable\",\"status\":\"normal\",\"personality\":\"vmanage\",\"device-type\":\"vmanage\",\"timezone\":\"UTC\",\"device-groups\":[\"No groups\"],\"lastupdated\":1695807604548,\"domain-id\":\"0\",\"board-serial\":\"5470033CD080D5D633F93A21E59C9C97A16F2A5D\",\"certificate-validity\":\"Valid\",\"max-controllers\":\"0\",\"uuid\":\"07ae2533-97d7-4d70-8b53-837636f495f2\",\"controlConnections\":\"6\",\"device-model\":\"vmanage\",\"version\":\"20.11.1\",\"connectedVManages\":[\"169.254.10.3\"],\"site-id\":\"1\",\"latitude\":\"37.666684\",\"longitude\":\"-122.777023\",\"isDeviceGeoData\":false,\"platform\":\"x86_64\",\"uptime-date\":1695807240000,\"statusOrder\":4,\"device-os\":\"next\",\"validity\":\"valid\",\"state\":\"green\",\"state_description\":\"All daemons up\",\"model_sku\":\"None\",\"local-system-ip\":\"172.16.1.13\",\"total_cpu_count\":\"16\",\"testbed_mode\":false,\"layoutLevel\":1},{\"deviceId\":\"169.254.10.9\",\"system-ip\":\"169.254.10.9\",\"host-name\":\"vsmart_1\",\"reachability\":\"reachable\",\"status\":\"normal\",\"personality\":\"vsmart\",\"device-type\":\"vsmart\",\"timezone\":\"UTC\",\"device-groups\":[\"No groups\"],\"lastupdated\":1695808184664,\"domain-id\":\"1\",\"board-serial\":\"5470033CD080D5D633F93A21E59C9C97A16F2A60\",\"certificate-validity\":\"Valid\",\"uuid\":\"fffa5e28-d7a0-4912-9908-fec35786fc7c\",\"controlConnections\":\"20\",\"device-model\":\"vsmart\",\"version\":\"20.11.1\",\"connectedVManages\":[\"169.254.10.1\",\"169.254.10.2\",\"169.254.10.3\"],\"site-id\":\"1\",\"ompPeers\":\"0\",\"latitude\":\"37.666684\",\"longitude\":\"-122.777023\",\"isDeviceGeoData\":false,\"platform\":\"x86_64\",\"uptime-date\":1695807240000,\"statusOrder\":4,\"device-os\":\"next\",\"validity\":\"valid\",\"state\":\"green\",\"state_description\":\"All daemons up\",\"model_sku\":\"None\",\"local-system-ip\":\"172.16.1.123\",\"total_cpu_count\":\"16\",\"testbed_mode\":false,\"layoutLevel\":2},{\"deviceId\":\"169.254.10.8\",\"system-ip\":\"169.254.10.8\",\"host-name\":\"vsmart_2\",\"reachability\":\"reachable\",\"status\":\"normal\",\"personality\":\"vsmart\",\"device-type\":\"vsmart\",\"timezone\":\"UTC\",\"device-groups\":[\"No groups\"],\"lastupdated\":1695808184666,\"domain-id\":\"1\",\"board-serial\":\"5470033CD080D5D633F93A21E59C9C97A16F2A61\",\"certificate-validity\":\"Valid\",\"uuid\":\"fa4bfb81-9f7c-499e-9144-9157fc1e7939\",\"controlConnections\":\"20\",\"device-model\":\"vsmart\",\"version\":\"20.11.1\",\"connectedVManages\":[\"169.254.10.1\",\"169.254.10.2\",\"169.254.10.3\"],\"site-id\":\"1\",\"ompPeers\":\"0\",\"latitude\":\"37.666684\",\"longitude\":\"-122.777023\",\"isDeviceGeoData\":false,\"platform\":\"x86_64\",\"uptime-date\":1695807240000,\"statusOrder\":4,\"device-os\":\"next\",\"validity\":\"valid\",\"state\":\"green\",\"state_description\":\"All daemons up\",\"model_sku\":\"None\",\"local-system-ip\":\"172.16.1.114\",\"total_cpu_count\":\"16\",\"testbed_mode\":false,\"layoutLevel\":2},{\"deviceId\":\"169.254.10.10\",\"system-ip\":\"169.254.10.10\",\"host-name\":\"vbond_1\",\"reachability\":\"reachable\",\"status\":\"normal\",\"personality\":\"vbond\",\"device-type\":\"vbond\",\"timezone\":\"UTC\",\"device-groups\":[\"No groups\"],\"lastupdated\":1695808183881,\"board-serial\":\"5470033CD080D5D633F93A21E59C9C97A16F2A5E\",\"certificate-validity\":\"Valid\",\"uuid\":\"a5fb6b92-8545-45a4-8f1e-a1788284535d\",\"device-model\":\"vedge-cloud\",\"version\":\"20.11.1\",\"connectedVManages\":[\"169.254.10.1\",\"169.254.10.2\",\"169.254.10.3\"],\"site-id\":\"1\",\"latitude\":\"37.666684\",\"longitude\":\"-122.777023\",\"isDeviceGeoData\":false,\"platform\":\"x86_64\",\"uptime-date\":1695807240000,\"statusOrder\":4,\"device-os\":\"next\",\"validity\":\"valid\",\"state\":\"green\",\"state_description\":\"All daemons up\",\"model_sku\":\"None\",\"local-system-ip\":\"172.16.1.102\",\"total_cpu_count\":\"16\",\"linux_cpu_count\":\"1\",\"testbed_mode\":false,\"layoutLevel\":3},{\"deviceId\":\"169.254.10.11\",\"system-ip\":\"169.254.10.11\",\"host-name\":\"vbond_2\",\"reachability\":\"reachable\",\"status\":\"normal\",\"personality\":\"vbond\",\"device-type\":\"vbond\",\"timezone\":\"UTC\",\"device-groups\":[\"No groups\"],\"lastupdated\":1695808183863,\"board-serial\":\"5470033CD080D5D633F93A21E59C9C97A16F2A5F\",\"certificate-validity\":\"Valid\",\"uuid\":\"276ee07b-4764-435b-b7ef-56caeafddcab\",\"device-model\":\"vedge-cloud\",\"version\":\"20.11.1\",\"connectedVManages\":[\"169.254.10.1\",\"169.254.10.2\",\"169.254.10.3\"],\"site-id\":\"1\",\"latitude\":\"37.666684\",\"longitude\":\"-122.777023\",\"isDeviceGeoData\":false,\"platform\":\"x86_64\",\"uptime-date\":1695807240000,\"statusOrder\":4,\"device-os\":\"next\",\"validity\":\"valid\",\"state\":\"green\",\"state_description\":\"All daemons up\",\"model_sku\":\"None\",\"local-system-ip\":\"172.16.1.122\",\"total_cpu_count\":\"16\",\"linux_cpu_count\":\"1\",\"testbed_mode\":false,\"layoutLevel\":3}]}\n"
     ]
    }
   ],
   "source": [
    "#device list in json\n",
    "url = \"https://\" + vmanage_host + \":\" + vmanage_port + \"/dataservice/device\"\n",
    "payload={}\n",
    "response = requests.request(\"Get\", url, headers=header, data=payload, verify=False)\n",
    "print(response.text)"
   ]
  },
  {
   "cell_type": "code",
   "execution_count": 6,
   "id": "6cad60ef",
   "metadata": {},
   "outputs": [
    {
     "name": "stdout",
     "output_type": "stream",
     "text": [
      "{\"header\":{\"generatedOn\":1695825561860,\"viewKeys\":{\"uniqueKey\":[],\"preferenceKey\":\"grid-ClusterHealthDetails\"},\"columns\":[{\"title\":\"Device IP\",\"property\":\"deviceIP\",\"display\":\"iconAndText\",\"iconProperty\":\"status\",\"hideable\":false,\"icon\":[{\"key\":\"normal\",\"value\":\"images/action_success.png\"},{\"key\":\"error\",\"value\":\"images/action_failure.png\"}],\"dataType\":\"string\"},{\"title\":\"Reporters\",\"property\":\"reporters\",\"hideable\":false,\"dataType\":\"string\"}],\"fields\":[{\"property\":\"deviceIP\",\"dataType\":\"string\",\"display\":\"iconAndText\"},{\"property\":\"reporters\",\"dataType\":\"string\"},{\"property\":\"system-ip\",\"dataType\":\"string\"},{\"property\":\"local-system-ip\",\"dataType\":\"string\"},{\"property\":\"host-name\",\"dataType\":\"string\"},{\"property\":\"personality\",\"dataType\":\"string\",\"display\":\"keyvalue\"}]},\"data\":[{\"deviceIP\":\"10.100.3.254\",\"reporters\":\"\",\"status\":\"normal\",\"system-ip\":\"169.254.10.2\",\"host-name\":\"vmanage_2\",\"personality\":\"vmanage\",\"local-system-ip\":\"172.16.1.12\"},{\"deviceIP\":\"10.100.3.94\",\"reporters\":\"\",\"status\":\"normal\",\"system-ip\":\"169.254.10.3\",\"host-name\":\"vmanage_3\",\"personality\":\"vmanage\",\"local-system-ip\":\"172.16.1.13\"},{\"deviceIP\":\"10.100.3.58\",\"reporters\":\"\",\"status\":\"normal\",\"system-ip\":\"169.254.10.1\",\"host-name\":\"vmanage_1\",\"personality\":\"vmanage\",\"local-system-ip\":\"172.16.1.11\"}]}\n"
     ]
    }
   ],
   "source": [
    "url = \"https://\" + vmanage_host + \":\" + vmanage_port + \"/dataservice/clusterManagement/health/details\"\n",
    "payload={}\n",
    "response = requests.request(\"Get\", url, headers=header, data=payload, verify=False)\n",
    "print(response.text)"
   ]
  },
  {
   "cell_type": "code",
   "execution_count": 9,
   "id": "32900e5b",
   "metadata": {},
   "outputs": [
    {
     "name": "stdout",
     "output_type": "stream",
     "text": [
      "{\"header\":{\"generatedOn\":1695825664267,\"viewKeys\":{\"uniqueKey\":[\"system-ip\"],\"preferenceKey\":\"grid-Device\"},\"columns\":[{\"title\":\"Hostname\",\"property\":\"host-name\",\"display\":\"iconAndText\",\"iconProperty\":\"device-type\",\"hideable\":false,\"icon\":[{\"key\":\"vmanage\",\"value\":\"images/vmanage_table.png\"},{\"key\":\"vedge\",\"value\":\"images/vedge_table.png\"},{\"key\":\"vedge-vbond\",\"value\":\"images/vedge-vbond_table.png\"},{\"key\":\"vsmart\",\"value\":\"images/vsmart_table.png\"},{\"key\":\"vbond\",\"value\":\"images/vbond_table.png\"}],\"width\":150,\"dataType\":\"string\"},{\"title\":\"Device Model\",\"property\":\"device-model\",\"display\":\"multiColumns\",\"hideable\":false,\"width\":100,\"dataType\":\"deviceModel\"},{\"title\":\"Site ID\",\"property\":\"site-id\",\"hideable\":false,\"width\":70,\"dataType\":\"numberStr\"},{\"title\":\"System IP\",\"property\":\"system-ip\",\"hideable\":false,\"width\":110,\"dataType\":\"ipv4\"},{\"title\":\"Chassis Number/ID\",\"property\":\"uuid\",\"width\":220,\"dataType\":\"string\"},{\"title\":\"Reachability\",\"property\":\"reachability\",\"display\":\"multiColumns\",\"color\":[{\"key\":\"reachable\",\"value\":\"616161\",\"property\":\"reachability\"},{\"key\":\"unreachable\",\"value\":\"ef5350\",\"property\":\"reachability\"},{\"key\":\"auth-failed\",\"value\":\"ffb300\",\"property\":\"reachability\"},{\"key\":\"staging\",\"value\":\"ffb300\",\"property\":\"validity\"}],\"width\":150,\"minWidth\":150,\"dataType\":\"string\"},{\"title\":\"State\",\"property\":\"state\",\"display\":\"iconAndToolTip\",\"iconProperty\":\"state\",\"toolTipProperty\":\"state_description\",\"defaultPropertyKey\":\"reachability\",\"defaultPropertyValue\":\"reachable\",\"icon\":[{\"key\":\"green\",\"value\":\"images/device_state_green.png\"},{\"key\":\"red\",\"value\":\"images/device_state_red.png\"},{\"key\":\"yellow\",\"value\":\"images/device_state_yellow.png\"},{\"key\":\"default\",\"value\":\"images/device_state_other.png\"}],\"width\":20,\"dataType\":\"string\"},{\"title\":\"BFD\",\"property\":\"bfdSessions\",\"width\":75,\"minWidth\":65,\"dataType\":\"numberStr\"},{\"title\":\"Control\",\"property\":\"controlConnections\",\"width\":75,\"minWidth\":65,\"dataType\":\"numberStr\"},{\"title\":\"Version\",\"property\":\"version\",\"width\":150,\"dataType\":\"string\"},{\"title\":\"Up Since\",\"property\":\"uptime-date\",\"displayFormat\":\"DD MMM YYYY h:mm:ss A z\",\"inputFormat\":\"unix-time\",\"width\":200,\"dataType\":\"date\"},{\"title\":\"Device Groups\",\"property\":\"device-groups\",\"width\":100,\"dataType\":\"array\"},{\"title\":\"Connected vManage\",\"property\":\"connectedVManages\",\"width\":500,\"dataType\":\"array\"}],\"fields\":[{\"property\":\"host-name\",\"dataType\":\"string\",\"display\":\"iconAndText\"},{\"property\":\"device-model\",\"dataType\":\"deviceModel\",\"display\":\"multiColumns\"},{\"property\":\"site-id\",\"dataType\":\"numberStr\"},{\"property\":\"system-ip\",\"dataType\":\"ipv4\"},{\"property\":\"uuid\",\"dataType\":\"string\"},{\"property\":\"reachability\",\"dataType\":\"string\",\"display\":\"multiColumns\"},{\"property\":\"state\",\"dataType\":\"string\",\"display\":\"iconAndToolTip\"},{\"property\":\"bfdSessions\",\"dataType\":\"numberStr\"},{\"property\":\"controlConnections\",\"dataType\":\"numberStr\"},{\"property\":\"version\",\"dataType\":\"string\"},{\"property\":\"uptime-date\",\"dataType\":\"date\"},{\"property\":\"device-groups\",\"dataType\":\"array\"},{\"property\":\"connectedVManages\",\"dataType\":\"array\"},{\"property\":\"number-vsmart-peers\",\"dataType\":\"number\"},{\"property\":\"board-serial\",\"dataType\":\"string\"},{\"property\":\"lastupdated\",\"dataType\":\"date\"}]},\"data\":[]}\n",
      "<class 'str'>\n"
     ]
    }
   ],
   "source": [
    "\n",
    "url = \"https://\" + vmanage_host + \":\" + vmanage_port + \"/dataservice/clusterManagement/connectedDevices/44.229.107.56\"\n",
    "payload={}\n",
    "response = requests.request(\"Get\", url, headers=header, data=payload, verify=False)\n",
    "print(response.text)\n",
    "print(type(response.text))"
   ]
  },
  {
   "cell_type": "code",
   "execution_count": 49,
   "id": "39bebdcb",
   "metadata": {},
   "outputs": [
    {
     "name": "stdout",
     "output_type": "stream",
     "text": [
      "{\"header\":{\"generatedOn\":1695832454180,\"viewKeys\":{\"uniqueKey\":[],\"preferenceKey\":\"grid-MonitorDeviceDetails\"},\"columns\":[{\"title\":\"Status\",\"property\":\"status\",\"display\":\"icon\",\"iconProperty\":\"status-icon\",\"colorProperty\":\"status-color\",\"hideable\":false,\"dataType\":\"string\"},{\"title\":\"Hostname\",\"property\":\"host-name\",\"display\":\"iconAndText\",\"iconProperty\":\"host-name-icon\",\"hideable\":false,\"dataType\":\"string\"},{\"title\":\"System IP\",\"property\":\"system-ip\",\"dataType\":\"ipv4\"},{\"title\":\"Site ID\",\"property\":\"site-id\",\"dataType\":\"numberStr\"},{\"title\":\"Device Type\",\"property\":\"device-type\",\"display\":\"keyvalue\",\"keyvalueProperty\":\"device-type\",\"keyvalue\":[{\"key\":\"vsmart\",\"value\":\"vSmart\"},{\"key\":\"vbond\",\"value\":\"vBond\"},{\"key\":\"vmanage\",\"value\":\"vManage\"},{\"key\":\"vedge\",\"value\":\"WAN Edge\"}],\"dataType\":\"string\"},{\"title\":\"Device Model\",\"property\":\"device-model\",\"display\":\"keyvalue\",\"keyvalueProperty\":\"device-model\",\"dataType\":\"string\"}],\"fields\":[{\"property\":\"status\",\"dataType\":\"string\",\"display\":\"icon\"},{\"property\":\"host-name\",\"dataType\":\"string\",\"display\":\"iconAndText\"},{\"property\":\"system-ip\",\"dataType\":\"ipv4\"},{\"property\":\"site-id\",\"dataType\":\"numberStr\"},{\"property\":\"device-type\",\"dataType\":\"string\",\"display\":\"keyvalue\"},{\"property\":\"device-model\",\"dataType\":\"string\",\"display\":\"keyvalue\"}]},\"data\":[{\"device-model\":\"vmanage\",\"device-type\":\"vmanage\",\"system-ip\":\"169.254.10.1\",\"host-name\":\"vmanage_1\",\"site-id\":\"1\",\"layoutLevel\":1,\"status\":\"normal\"},{\"device-model\":\"vmanage\",\"device-type\":\"vmanage\",\"system-ip\":\"169.254.10.2\",\"host-name\":\"vmanage_2\",\"site-id\":\"1\",\"layoutLevel\":1,\"status\":\"normal\"},{\"device-model\":\"vmanage\",\"device-type\":\"vmanage\",\"system-ip\":\"169.254.10.3\",\"host-name\":\"vmanage_3\",\"site-id\":\"1\",\"layoutLevel\":1,\"status\":\"normal\"},{\"device-model\":\"vsmart\",\"device-type\":\"vsmart\",\"system-ip\":\"169.254.10.9\",\"host-name\":\"vsmart_1\",\"site-id\":\"1\",\"layoutLevel\":2,\"status\":\"normal\"},{\"device-model\":\"vsmart\",\"device-type\":\"vsmart\",\"system-ip\":\"169.254.10.8\",\"host-name\":\"vsmart_2\",\"site-id\":\"1\",\"layoutLevel\":2,\"status\":\"normal\"},{\"device-model\":\"vedge-cloud\",\"device-type\":\"vbond\",\"system-ip\":\"169.254.10.10\",\"host-name\":\"vbond_1\",\"site-id\":\"1\",\"layoutLevel\":3,\"status\":\"normal\"},{\"device-model\":\"vedge-cloud\",\"device-type\":\"vbond\",\"system-ip\":\"169.254.10.11\",\"host-name\":\"vbond_2\",\"site-id\":\"1\",\"layoutLevel\":3,\"status\":\"normal\"}]}\n",
      "<class 'str'>\n"
     ]
    }
   ],
   "source": [
    "url = \"https://\" + vmanage_host + \":\" + vmanage_port + \"/dataservice/device/monitor\"\n",
    "payload={}\n",
    "response = requests.request(\"Get\", url, headers=header, data=payload, verify=False)\n",
    "print(response.text)\n",
    "print(type(response.text))"
   ]
  },
  {
   "cell_type": "code",
   "execution_count": 50,
   "id": "3eaf053b",
   "metadata": {},
   "outputs": [
    {
     "name": "stdout",
     "output_type": "stream",
     "text": [
      "{\"header\":{\"generatedOn\":1695832476721,\"viewKeys\":{\"uniqueKey\":[\"tenant-id\"],\"preferenceKey\":\"grid-Tenant\"},\"columns\":[{\"title\":\"Organization Name\",\"property\":\"orgName\",\"width\":110,\"dataType\":\"string\"},{\"title\":\"Sub Domain\",\"property\":\"subDomain\",\"width\":110,\"dataType\":\"string\"},{\"title\":\"Name\",\"property\":\"name\",\"width\":110,\"dataType\":\"string\"},{\"title\":\"Description\",\"property\":\"desc\",\"width\":110,\"dataType\":\"string\"},{\"title\":\"Forecasted Device Count\",\"property\":\"wanEdgeForecast\",\"width\":110,\"dataType\":\"string\"},{\"title\":\"vSmarts\",\"property\":\"vSmarts\",\"width\":110,\"dataType\":\"list\"},{\"title\":\"Current Device Count\",\"property\":\"wanEdgePresent\",\"width\":110,\"dataType\":\"string\"}],\"fields\":[{\"property\":\"tenantId\",\"dataType\":\"string\"},{\"property\":\"orgName\",\"dataType\":\"string\"},{\"property\":\"subDomain\",\"dataType\":\"string\"},{\"property\":\"vBondAddress\",\"dataType\":\"string\"},{\"property\":\"name\",\"dataType\":\"string\"},{\"property\":\"desc\",\"dataType\":\"string\"},{\"property\":\"wanEdgeForecast\",\"dataType\":\"string\"},{\"property\":\"vSmarts\",\"dataType\":\"list\"},{\"property\":\"wanEdgePresent\",\"dataType\":\"string\"}]},\"data\":[{\"flakeId\":14641,\"orgName\":\"devops-ontap.com-aspadescisco\",\"samlSpInfo\":\"\",\"idpMap\":\"{}\",\"subDomain\":\"aspadescisco.devops-ontap.com\",\"vBondAddress\":\"\",\"configDBClusterServiceName\":\"\",\"vSmarts\":[\"fa4bfb81-9f7c-499e-9144-9157fc1e7939\",\"fffa5e28-d7a0-4912-9908-fec35786fc7c\"],\"oldIdpMap\":\"{}\",\"createdAt\":1686710298085,\"@rid\":1499,\"name\":\"aspadescisco\",\"tenantId\":\"f339c46b-90a9-4884-8995-06c106584515\",\"wanEdgeForecast\":\"12\",\"spMetadata\":\"\",\"state\":\"READY\",\"wanEdgePresent\":12,\"desc\":\"aspadescisco\"}]}\n",
      "<class 'str'>\n"
     ]
    }
   ],
   "source": [
    "url = \"https://\" + vmanage_host + \":\" + vmanage_port + \"/dataservice/tenant\"\n",
    "payload={}\n",
    "response = requests.request(\"Get\", url, headers=header, data=payload, verify=False)\n",
    "print(response.text)\n",
    "print(type(response.text))"
   ]
  },
  {
   "cell_type": "code",
   "execution_count": 42,
   "id": "4d8439bb",
   "metadata": {},
   "outputs": [
    {
     "name": "stdout",
     "output_type": "stream",
     "text": [
      "<class 'str'>\n"
     ]
    }
   ],
   "source": [
    "url = \"https://\" + vmanage_host + \":\" + vmanage_port + \"/dataservice/template/feature\"\n",
    "payload={}\n",
    "response = requests.request(\"Get\", url, headers=header, data=payload, verify=False)\n",
    "print(type(response.text))\n",
    "\n"
   ]
  },
  {
   "cell_type": "code",
   "execution_count": null,
   "id": "408f5d77",
   "metadata": {},
   "outputs": [],
   "source": [
    "\n"
   ]
  },
  {
   "cell_type": "code",
   "execution_count": null,
   "id": "2673e854",
   "metadata": {},
   "outputs": [],
   "source": []
  }
 ],
 "metadata": {
  "kernelspec": {
   "display_name": "Python 3 (ipykernel)",
   "language": "python",
   "name": "python3"
  },
  "language_info": {
   "codemirror_mode": {
    "name": "ipython",
    "version": 3
   },
   "file_extension": ".py",
   "mimetype": "text/x-python",
   "name": "python",
   "nbconvert_exporter": "python",
   "pygments_lexer": "ipython3",
   "version": "3.11.1"
  }
 },
 "nbformat": 4,
 "nbformat_minor": 5
}
