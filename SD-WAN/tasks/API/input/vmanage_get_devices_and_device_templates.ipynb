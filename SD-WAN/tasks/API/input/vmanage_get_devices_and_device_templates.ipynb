{
 "cells": [
  {
   "cell_type": "code",
   "execution_count": null,
   "id": "31514500",
   "metadata": {
    "pycharm": {
     "name": "#%%\n"
    }
   },
   "outputs": [
    {
     "name": "stdout",
     "output_type": "stream",
     "text": [
      "headers, cookies\n",
      "main jsession id JSESSIONID=ECEXoY_YsgQ-zQz0Q1hHOiDjSggMENGKtFUw6_qW.a68a9a7c-c40f-4e12-b308-f3505ddbb00a\n",
      "token 196676E63BEA3C32C9A0913FF90CC909687E49E33E8A5D099AF0F505AF4751E4F77CF658208EDB14F5CED659AE9DDB6C62D7\n",
      "main token 196676E63BEA3C32C9A0913FF90CC909687E49E33E8A5D099AF0F505AF4751E4F77CF658208EDB14F5CED659AE9DDB6C62D7\n"
     ]
    }
   ],
   "source": [
    "#credit to https://drive.google.com/drive/folders/1jknduoqpTljcf2N9Dq9d9-YIXfz-4yYu\n",
    "class Authentication:\n",
    "    @staticmethod\n",
    "    def get_jsessionid(vmanage_host, vmanage_port, username, password):\n",
    "        api = \"/j_security_check\"\n",
    "        base_url = \"https://%s:%s\" % (vmanage_host, vmanage_port)\n",
    "        url = base_url + api\n",
    "        payload = {'j_username': username, 'j_password': password}\n",
    "        \n",
    "        response = requests.post(url=url, data=payload, verify=False)\n",
    "        try:\n",
    "            cookies = response.headers[\"Set-Cookie\"]\n",
    "            print(\"headers, cookies\")\n",
    "            jsessionid = cookies.split(\";\")\n",
    "            return(jsessionid[0])\n",
    "        except:\n",
    "            [print(\"No Valid JSESSION ID returned\\n\")]\n",
    "            exit()\n",
    "            \n",
    "    @staticmethod\n",
    "    def get_token(vmanage_host, vmanage_port, jsessionid):\n",
    "        headers = {'Cookie': jsessionid}\n",
    "        base_url = \"https://%s:%s\" % (vmanage_host, vmanage_port)\n",
    "        api = \"/dataservice/client/token\"\n",
    "        url = base_url + api\n",
    "        response = requests.get(url=url, headers=headers, verify=False)\n",
    "        if response.status_code == 200:\n",
    "            print(\"token\", response.text)\n",
    "            return(response.text)\n",
    "        else:\n",
    "            return None\n",
    "\n",
    "import requests, json, urllib3\n",
    "urllib3.disable_warnings()\n",
    "vmanage_port = \"8443\"\n",
    "vmanage_host = \"184.169.141.21\"\n",
    "vmanage_username = \"admin\"\n",
    "vmanage_password = \"admin1\"\n",
    "\n",
    "Auth = Authentication()\n",
    "jsessionid = Auth.get_jsessionid(vmanage_host, vmanage_port, vmanage_username, vmanage_password)\n",
    "print(\"main jsession id\", jsessionid)\n",
    "\n",
    "token = Auth.get_token(vmanage_host, vmanage_port, jsessionid)\n",
    "print(\"main token\", token)\n",
    "       \n",
    "if token is not None:\n",
    "       header = {'Content-Type': \"application/json\", 'Cookie': jsessionid, 'X-XSRF-TOKEN': token}\n",
    "else:\n",
    "    header = {'Content-Type': \"application/json\", 'Cookie': jsessionid}\n",
    "\n",
    "'''\n",
    "  \n",
    "#device list in json\n",
    "url = \"https://\" + vmanage_host + \":\" + vmanage_port + \"/dataservice/device\"\n",
    "payload={}\n",
    "response = requests.request(\"Get\", url, headers=header, data=payload, verify=False)\n",
    "print(response.text)\n",
    " \n",
    "'''   \n",
    "#Get Device Templates\n",
    "url = \"https://184.169.141.21:443/dataservice/template/device\"\n",
    "\n",
    "payload={}\n",
    "headers = {\n",
    "  'Accept': 'application/json',\n",
    "  'X-XSRF-TOKEN': token,\n",
    "  'Cookie': jsessionid\n",
    "}\n",
    "\n",
    "response = requests.request(\"GET\", url, headers=headers, data=payload, verify=False)\n",
    "\n",
    "\n",
    "print(type(response))\n",
    "print(response.text)\n",
    "resp.json=(json.loads(response.text))\n",
    "\n",
    "       \n",
    "       \n",
    "       \n",
    "       \n",
    "\n",
    "\n",
    "\n",
    "\n",
    "\n"
   ]
  },
  {
   "cell_type": "code",
   "execution_count": 18,
   "id": "635e1597",
   "metadata": {
    "pycharm": {
     "name": "#%%\n"
    }
   },
   "outputs": [
    {
     "name": "stdout",
     "output_type": "stream",
     "text": [
      "<bound method Response.json of <Response [200]>>\n"
     ]
    }
   ],
   "source": [
    "print(response.json)"
   ]
  },
  {
   "cell_type": "code",
   "execution_count": null,
   "id": "78d89f93",
   "metadata": {
    "pycharm": {
     "name": "#%%\n"
    }
   },
   "outputs": [],
   "source": []
  }
 ],
 "metadata": {
  "kernelspec": {
   "display_name": "Python 3 (ipykernel)",
   "language": "python",
   "name": "python3"
  },
  "language_info": {
   "codemirror_mode": {
    "name": "ipython",
    "version": 3
   },
   "file_extension": ".py",
   "mimetype": "text/x-python",
   "name": "python",
   "nbconvert_exporter": "python",
   "pygments_lexer": "ipython3",
   "version": "3.11.1"
  }
 },
 "nbformat": 4,
 "nbformat_minor": 5
}