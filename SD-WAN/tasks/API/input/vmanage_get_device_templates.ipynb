{
 "cells": [
  {
   "cell_type": "code",
   "execution_count": 70,
   "id": "1429299d",
   "metadata": {
    "scrolled": true,
    "pycharm": {
     "name": "#%%\n"
    }
   },
   "outputs": [
    {
     "name": "stdout",
     "output_type": "stream",
     "text": [
      "headers, cookies\n",
      "main jsession id JSESSIONID=OLAKCfIFsNq1ftfvUunq3QdOBo0di1U3AXfYcZOd.a68a9a7c-c40f-4e12-b308-f3505ddbb00a\n",
      "token B352B1B07F22FF9B423CE757B7ADEB76090966F34851F924633977A3E4412BD378CB4536A25AA5E775503FA8665CC7A47B1F\n",
      "main token B352B1B07F22FF9B423CE757B7ADEB76090966F34851F924633977A3E4412BD378CB4536A25AA5E775503FA8665CC7A47B1F\n"
     ]
    }
   ],
   "source": [
    "#credit to https://drive.google.com/drive/folders/1jknduoqpTljcf2N9Dq9d9-YIXfz-4yYu\n",
    "class Authentication:\n",
    "    @staticmethod\n",
    "    def get_jsessionid(vmanage_host, vmanage_port, username, password):\n",
    "        api = \"/j_security_check\"\n",
    "        base_url = \"https://%s:%s\" % (vmanage_host, vmanage_port)\n",
    "        url = base_url + api\n",
    "        payload = {'j_username': username, 'j_password': password}\n",
    "        \n",
    "        response = requests.post(url=url, data=payload, verify=False)\n",
    "        try:\n",
    "            cookies = response.headers[\"Set-Cookie\"]\n",
    "            print(\"headers, cookies\")\n",
    "            jsessionid = cookies.split(\";\")\n",
    "            return(jsessionid[0])\n",
    "        except:\n",
    "            [print(\"No Valid JSESSION ID returned\\n\")]\n",
    "            exit()\n",
    "            \n",
    "    @staticmethod\n",
    "    def get_token(vmanage_host, vmanage_port, jsessionid):\n",
    "        headers = {'Cookie': jsessionid}\n",
    "        base_url = \"https://%s:%s\" % (vmanage_host, vmanage_port)\n",
    "        api = \"/dataservice/client/token\"\n",
    "        url = base_url + api\n",
    "        response = requests.get(url=url, headers=headers, verify=False)\n",
    "        if response.status_code == 200:\n",
    "            print(\"token\", response.text)\n",
    "            return(response.text)\n",
    "        else:\n",
    "            return None\n",
    "\n",
    "import requests, json, urllib3\n",
    "urllib3.disable_warnings()\n",
    "vmanage_port = \"8443\"\n",
    "vmanage_host = \"184.169.141.21\"\n",
    "vmanage_username = \"admin\"\n",
    "vmanage_password = \"admin1\"\n",
    "\n",
    "Auth = Authentication()\n",
    "jsessionid = Auth.get_jsessionid(vmanage_host, vmanage_port, vmanage_username, vmanage_password)\n",
    "print(\"main jsession id\", jsessionid)\n",
    "\n",
    "token = Auth.get_token(vmanage_host, vmanage_port, jsessionid)\n",
    "print(\"main token\", token)\n",
    "       \n",
    "if token is not None:\n",
    "       header = {'Content-Type': \"application/json\", 'Cookie': jsessionid, 'X-XSRF-TOKEN': token}\n",
    "else:\n",
    "    header = {'Content-Type': \"application/json\", 'Cookie': jsessionid}\n",
    "\n",
    "'''\n",
    "  \n",
    "#device list in json\n",
    "url = \"https://\" + vmanage_host + \":\" + vmanage_port + \"/dataservice/device\"\n",
    "payload={}\n",
    "response = requests.request(\"Get\", url, headers=header, data=payload, verify=False)\n",
    "print(response.text)\n",
    " \n",
    "'''   \n",
    "#Get Device Templates\n",
    "url = \"https://184.169.141.21:443/dataservice/template/device\"\n",
    "\n",
    "payload={}\n",
    "headers = {\n",
    "  'Accept': 'application/json',\n",
    "  'X-XSRF-TOKEN': token,\n",
    "  'Cookie': jsessionid\n",
    "}\n",
    "\n",
    "response = requests.request(\"GET\", url, headers=headers, data=payload, verify=False)\n",
    "\n",
    "\n",
    "\n",
    "\n",
    "       \n",
    "       \n",
    "       \n",
    "       \n",
    "\n",
    "\n",
    "\n",
    "\n",
    "\n"
   ]
  },
  {
   "cell_type": "code",
   "execution_count": 72,
   "id": "b4869c4a",
   "metadata": {
    "pycharm": {
     "name": "#%%\n"
    }
   },
   "outputs": [
    {
     "name": "stdout",
     "output_type": "stream",
     "text": [
      "{'header': {'generatedOn': 1684772786752, 'viewKeys': {'uniqueKey': [], 'preferenceKey': 'grid-TemplateMasterWithFeature'}, 'columns': [{'title': 'Name', 'property': 'templateName', 'hideable': False, 'dataType': 'string'}, {'title': 'Description', 'property': 'templateDescription', 'dataType': 'string'}, {'title': 'Type', 'property': 'configType', 'display': 'keyvalue', 'keyvalueProperty': 'configType', 'hideable': False, 'keyvalue': [{'key': 'file', 'value': 'CLI'}, {'key': 'template', 'value': 'Feature'}], 'dataType': 'string'}, {'title': 'Device Model', 'property': 'deviceType', 'display': 'keyvalue', 'keyvalueProperty': 'deviceType', 'hideable': False, 'minWidth': 100, 'dataType': 'string'}, {'title': 'Device Role', 'property': 'deviceRole', 'display': 'keyvalue', 'keyvalueProperty': 'deviceRole', 'hideable': False, 'keyvalue': [{'key': 'sdwan-edge', 'value': 'SDWAN Edge'}, {'key': 'service-node', 'value': 'Service Node'}], 'minWidth': 100, 'dataType': 'string'}, {'title': 'Feature Templates', 'property': 'templateAttached', 'dataType': 'string'}, {'title': 'Draft Mode', 'property': 'draftMode', 'dataType': 'string'}, {'title': 'Devices Attached', 'property': 'devicesAttached', 'display': 'deviceLinkCell', 'dataType': 'number'}, {'title': 'Updated By', 'property': 'lastUpdatedBy', 'dataType': 'string'}, {'title': 'Last Updated', 'property': 'lastUpdatedOn', 'displayFormat': 'DD MMM YYYY h:mm:ss A z', 'inputFormat': 'unix-time', 'dataType': 'date'}], 'fields': [{'property': 'templateName', 'dataType': 'string'}, {'property': 'templateDescription', 'dataType': 'string'}, {'property': 'configType', 'dataType': 'string', 'display': 'keyvalue'}, {'property': 'deviceType', 'dataType': 'string', 'display': 'keyvalue'}, {'property': 'deviceRole', 'dataType': 'string', 'display': 'keyvalue'}, {'property': 'templateAttached', 'dataType': 'string'}, {'property': 'draftMode', 'dataType': 'string'}, {'property': 'devicesAttached', 'dataType': 'number', 'display': 'deviceLinkCell'}, {'property': 'lastUpdatedBy', 'dataType': 'string'}, {'property': 'lastUpdatedOn', 'dataType': 'date'}]}, 'data': [{'deviceType': 'vsmart', 'lastUpdatedBy': 'admin', 'resourceGroup': 'global', 'templateClass': 'vedge', 'configType': 'file', 'templateId': 'e0219d2d-41b4-481b-af2f-eecd89506f9d', 'factoryDefault': False, 'templateName': 'vSmart_vmanage_mode_v1', 'devicesAttached': 1, 'templateDescription': 'vSmart_vmanage_mode', 'draftMode': 'Disabled', 'lastUpdatedOn': 1684532020295, 'templateAttached': 0}, {'deviceType': 'vsmart', 'lastUpdatedBy': 'admin', 'resourceGroup': 'global', 'templateClass': 'vedge', 'configType': 'file', 'templateId': 'bf3f1a44-feb9-494b-97c2-450be319dd23', 'factoryDefault': False, 'templateName': 'vSmart_2_vmanage_mode_v1', 'devicesAttached': 1, 'templateDescription': 'vSmart_2_vmanage_mode_v1', 'draftMode': 'Disabled', 'lastUpdatedOn': 1684532480542, 'templateAttached': 0}, {'deviceType': 'vedge-cloud', 'lastUpdatedBy': 'admin', 'resourceGroup': 'global', 'templateClass': 'vedge', 'configType': 'file', 'templateId': '72fc9df6-19e5-44ad-9167-2225b6d0bca5', 'factoryDefault': False, 'templateName': 'vbond_1', 'devicesAttached': 1, 'templateDescription': 'vbond_1', 'draftMode': 'Disabled', 'lastUpdatedOn': 1684533663381, 'templateAttached': 0}, {'deviceType': 'vedge-cloud', 'lastUpdatedBy': 'admin', 'resourceGroup': 'global', 'templateClass': 'vedge', 'configType': 'file', 'templateId': '6397c9e5-bf4e-4ef9-91f2-37bb9a6e0176', 'factoryDefault': False, 'templateName': 'vbond_2', 'devicesAttached': 1, 'templateDescription': 'vbond_2', 'draftMode': 'Disabled', 'lastUpdatedOn': 1684533649011, 'templateAttached': 0}, {'deviceType': 'vedge-C8000V', 'lastUpdatedBy': 'system', 'resourceGroup': 'global', 'deviceRole': 'sdwan-edge', 'templateClass': 'cedge', 'configType': 'template', 'templateId': '9a3d6d79-1568-434b-906f-30b0d97a8110', 'factoryDefault': True, 'templateName': 'Default_AWS_TGW_C8000V_Template_V01', 'devicesAttached': 0, 'templateDescription': 'Default device template for AWS TGW C8000V', 'lastUpdatedOn': 1684511378791, 'templateAttached': 11, 'draftMode': 'Disabled'}, {'deviceType': 'vedge-CSR-1000v', 'lastUpdatedBy': 'system', 'resourceGroup': 'global', 'deviceRole': 'sdwan-edge', 'templateClass': 'cedge', 'configType': 'template', 'templateId': 'fcdf0426-562a-4355-9484-4f220e9fdb45', 'factoryDefault': True, 'templateName': 'Default_AWS_TGW_CSR1000V_Template_V01', 'devicesAttached': 0, 'templateDescription': 'Default device template for AWS TGW CSR1000V', 'lastUpdatedOn': 1684511380620, 'templateAttached': 11, 'draftMode': 'Disabled'}, {'deviceType': 'vedge-C8000V', 'lastUpdatedBy': 'system', 'resourceGroup': 'global', 'deviceRole': 'sdwan-edge', 'templateClass': 'cedge', 'configType': 'template', 'templateId': '469b63eb-d491-4180-bcc5-120580936c04', 'factoryDefault': True, 'templateName': 'Default_Azure_vWAN_C8000V_Template_V01', 'devicesAttached': 0, 'templateDescription': 'Default device template for Azure vWAN C8000V', 'lastUpdatedOn': 1684511381359, 'templateAttached': 11, 'draftMode': 'Disabled'}, {'deviceType': 'vedge-C8000V', 'lastUpdatedBy': 'system', 'resourceGroup': 'global', 'deviceRole': 'sdwan-edge', 'templateClass': 'cedge', 'configType': 'template', 'templateId': '7333e065-c181-4869-b567-5cde613a4ca2', 'factoryDefault': True, 'templateName': 'Default_BOOTSTRAP_DHCP_8000V_Template_V01', 'devicesAttached': 0, 'templateDescription': 'Default device template for onboarding C8000V devices with dhcp configurations', 'lastUpdatedOn': 1684511382001, 'templateAttached': 11, 'draftMode': 'Disabled'}, {'deviceType': 'vedge-C8000V', 'lastUpdatedBy': 'system', 'resourceGroup': 'global', 'deviceRole': 'sdwan-edge', 'templateClass': 'cedge', 'configType': 'template', 'templateId': 'aca67b2a-4d56-4205-9c32-babf9ac4fc39', 'factoryDefault': True, 'templateName': 'Default_BOOTSTRAP_STATIC_8000V_Template_V01', 'devicesAttached': 0, 'templateDescription': 'Default device template for AWS TGW C8000V', 'lastUpdatedOn': 1684511383215, 'templateAttached': 10, 'draftMode': 'Disabled'}, {'deviceType': 'vedge-CSR-1000v', 'lastUpdatedBy': 'system', 'resourceGroup': 'global', 'deviceRole': 'sdwan-edge', 'templateClass': 'cedge', 'configType': 'template', 'templateId': '5dd51f9f-9c3f-4d1a-b417-658a235f11fa', 'factoryDefault': True, 'templateName': 'Default_EQUINIX_DHCP_DNS_ICGW_CSR1000V_Template_V02', 'devicesAttached': 0, 'templateDescription': 'Default DHCP DNS device template for Equinix Interconnect Gateway CSR1000V', 'lastUpdatedOn': 1684511383309, 'templateAttached': 11, 'draftMode': 'Disabled'}, {'deviceType': 'vedge-C8000V', 'lastUpdatedBy': 'system', 'resourceGroup': 'global', 'deviceRole': 'sdwan-edge', 'templateClass': 'cedge', 'configType': 'template', 'templateId': '95994956-8924-433a-8858-c40e63f8e4fb', 'factoryDefault': True, 'templateName': 'Default_GCP_C8000V_Template_V01', 'devicesAttached': 0, 'templateDescription': 'Default device template for GCP C8000V', 'lastUpdatedOn': 1684511380684, 'templateAttached': 10, 'draftMode': 'Disabled'}, {'deviceType': 'vedge-C8000V', 'lastUpdatedBy': 'system', 'resourceGroup': 'global', 'deviceRole': 'sdwan-edge', 'templateClass': 'cedge', 'configType': 'template', 'templateId': 'e17c9349-de8d-4356-a64d-fa64b8159660', 'factoryDefault': True, 'templateName': 'Default_MEGAPORT_ICGW_C8000V_Template_V01', 'devicesAttached': 0, 'templateDescription': 'Default device template for Megaport Interconnect Gateway C8000V', 'lastUpdatedOn': 1684511382666, 'templateAttached': 9, 'draftMode': 'Disabled'}, {'deviceType': 'vedge-C8000V', 'lastUpdatedBy': 'system', 'resourceGroup': 'global', 'deviceRole': 'sdwan-edge', 'templateClass': 'cedge', 'configType': 'template', 'templateId': '144ccc59-bc07-42c4-bc33-1cac56e4ca4b', 'factoryDefault': True, 'templateName': 'Default_SDBranch_C8000V_Template_V01', 'devicesAttached': 0, 'templateDescription': 'Default device template for SD Branch C8000V', 'lastUpdatedOn': 1684511377826, 'templateAttached': 16, 'draftMode': 'Disabled'}, {'deviceType': 'vedge-ISRv', 'lastUpdatedBy': 'system', 'resourceGroup': 'global', 'deviceRole': 'sdwan-edge', 'templateClass': 'cedge', 'configType': 'template', 'templateId': 'd0348ebd-d813-462a-956d-6cb161a54c96', 'factoryDefault': True, 'templateName': 'Default_SDBranch_ISRv_Template_V01', 'devicesAttached': 0, 'templateDescription': 'Default device template for SD Branch ISRv', 'lastUpdatedOn': 1684511382331, 'templateAttached': 16, 'draftMode': 'Disabled'}, {'deviceType': 'vedge-cloud', 'lastUpdatedBy': 'system', 'resourceGroup': 'global', 'deviceRole': 'sdwan-edge', 'templateClass': 'vedge', 'configType': 'template', 'templateId': '493ca1ac-9f29-4c73-ac97-d598aed4fd83', 'factoryDefault': True, 'templateName': 'Default_SDBranch_vEdge_cloud_Template_V01', 'devicesAttached': 0, 'templateDescription': 'Default device template for SD Branch vedge cloud', 'lastUpdatedOn': 1684511379782, 'templateAttached': 14, 'draftMode': 'Disabled'}, {'deviceType': 'vedge-C8000V', 'lastUpdatedBy': 'system', 'resourceGroup': 'global', 'deviceRole': 'sdwan-edge', 'templateClass': 'cedge', 'configType': 'template', 'templateId': '15e293f3-5998-4828-8d72-0b1f66d37de9', 'factoryDefault': True, 'templateName': 'Factory_Default_1_TLOC_Branch_Template', 'devicesAttached': 0, 'templateDescription': 'Factory Default 1 TLOC Branch Template for CSR C8000V', 'lastUpdatedOn': 1684511381288, 'templateAttached': 17, 'draftMode': 'Disabled'}, {'deviceType': 'vedge-C1111-8PLTELA', 'lastUpdatedBy': 'system', 'resourceGroup': 'global', 'deviceRole': 'sdwan-edge', 'templateClass': 'cedge', 'configType': 'template', 'templateId': '7949d736-e1de-4581-8696-34ffe17b2c53', 'factoryDefault': True, 'templateName': 'Factory_Default_C1111_8PLTELA_V01', 'devicesAttached': 0, 'templateDescription': 'Factory Default template for C1111-8PLTELA', 'lastUpdatedOn': 1684511378849, 'templateAttached': 15, 'draftMode': 'Disabled'}, {'deviceType': 'vedge-C8000V', 'lastUpdatedBy': 'system', 'resourceGroup': 'global', 'deviceRole': 'sdwan-edge', 'templateClass': 'cedge', 'configType': 'template', 'templateId': 'e40860ad-87f6-4235-9cc6-61cea78dfb2e', 'factoryDefault': True, 'templateName': 'Factory_Default_C8000V_V01', 'devicesAttached': 0, 'templateDescription': 'Factory Default template for  C8000V', 'lastUpdatedOn': 1684511383839, 'templateAttached': 22, 'draftMode': 'Disabled'}, {'deviceType': 'vedge-C8000V', 'lastUpdatedBy': 'system', 'resourceGroup': 'global', 'deviceRole': 'sdwan-edge', 'templateClass': 'cedge', 'configType': 'template', 'templateId': '4c3a59ec-9504-4af5-9555-8f1d220d413a', 'factoryDefault': True, 'templateName': 'Factory_Default_DC1_HUB', 'devicesAttached': 0, 'templateDescription': 'Factory Default DC1 HUB for CSR C8000V', 'lastUpdatedOn': 1684511379504, 'templateAttached': 19, 'draftMode': 'Disabled'}, {'deviceType': 'vedge-ISR-4331', 'lastUpdatedBy': 'system', 'resourceGroup': 'global', 'deviceRole': 'sdwan-edge', 'templateClass': 'cedge', 'configType': 'template', 'templateId': '86c96c32-71ab-432a-964a-ed29db3945e9', 'factoryDefault': True, 'templateName': 'Factory_Default_ISR_4331_V01', 'devicesAttached': 0, 'templateDescription': 'Factory Default template for ISR4331 device', 'lastUpdatedOn': 1684511377756, 'templateAttached': 14, 'draftMode': 'Disabled'}]}\n",
      "<class 'dict'>\n"
     ]
    }
   ],
   "source": [
    "#print(type(response))\n",
    "#print(response.text)\n",
    "access_json=(json.loads(response.text))\n",
    "print(access_json)\n",
    "print(type(access_json))\n",
    "\n",
    "\n"
   ]
  },
  {
   "cell_type": "code",
   "execution_count": 76,
   "id": "a59a468d",
   "metadata": {
    "pycharm": {
     "name": "#%%\n"
    }
   },
   "outputs": [
    {
     "name": "stdout",
     "output_type": "stream",
     "text": [
      "<class 'dict'>\n"
     ]
    }
   ],
   "source": [
    "print(type(access_json))"
   ]
  },
  {
   "cell_type": "code",
   "execution_count": 80,
   "id": "f2086cac",
   "metadata": {
    "pycharm": {
     "name": "#%%\n"
    }
   },
   "outputs": [
    {
     "name": "stdout",
     "output_type": "stream",
     "text": [
      "[{'generatedOn': 1684772786752, 'viewKeys': {'uniqueKey': [], 'preferenceKey': 'grid-TemplateMasterWithFeature'}, 'columns': [{'title': 'Name', 'property': 'templateName', 'hideable': False, 'dataType': 'string'}, {'title': 'Description', 'property': 'templateDescription', 'dataType': 'string'}, {'title': 'Type', 'property': 'configType', 'display': 'keyvalue', 'keyvalueProperty': 'configType', 'hideable': False, 'keyvalue': [{'key': 'file', 'value': 'CLI'}, {'key': 'template', 'value': 'Feature'}], 'dataType': 'string'}, {'title': 'Device Model', 'property': 'deviceType', 'display': 'keyvalue', 'keyvalueProperty': 'deviceType', 'hideable': False, 'minWidth': 100, 'dataType': 'string'}, {'title': 'Device Role', 'property': 'deviceRole', 'display': 'keyvalue', 'keyvalueProperty': 'deviceRole', 'hideable': False, 'keyvalue': [{'key': 'sdwan-edge', 'value': 'SDWAN Edge'}, {'key': 'service-node', 'value': 'Service Node'}], 'minWidth': 100, 'dataType': 'string'}, {'title': 'Feature Templates', 'property': 'templateAttached', 'dataType': 'string'}, {'title': 'Draft Mode', 'property': 'draftMode', 'dataType': 'string'}, {'title': 'Devices Attached', 'property': 'devicesAttached', 'display': 'deviceLinkCell', 'dataType': 'number'}, {'title': 'Updated By', 'property': 'lastUpdatedBy', 'dataType': 'string'}, {'title': 'Last Updated', 'property': 'lastUpdatedOn', 'displayFormat': 'DD MMM YYYY h:mm:ss A z', 'inputFormat': 'unix-time', 'dataType': 'date'}], 'fields': [{'property': 'templateName', 'dataType': 'string'}, {'property': 'templateDescription', 'dataType': 'string'}, {'property': 'configType', 'dataType': 'string', 'display': 'keyvalue'}, {'property': 'deviceType', 'dataType': 'string', 'display': 'keyvalue'}, {'property': 'deviceRole', 'dataType': 'string', 'display': 'keyvalue'}, {'property': 'templateAttached', 'dataType': 'string'}, {'property': 'draftMode', 'dataType': 'string'}, {'property': 'devicesAttached', 'dataType': 'number', 'display': 'deviceLinkCell'}, {'property': 'lastUpdatedBy', 'dataType': 'string'}, {'property': 'lastUpdatedOn', 'dataType': 'date'}]}, [{'deviceType': 'vsmart', 'lastUpdatedBy': 'admin', 'resourceGroup': 'global', 'templateClass': 'vedge', 'configType': 'file', 'templateId': 'e0219d2d-41b4-481b-af2f-eecd89506f9d', 'factoryDefault': False, 'templateName': 'vSmart_vmanage_mode_v1', 'devicesAttached': 1, 'templateDescription': 'vSmart_vmanage_mode', 'draftMode': 'Disabled', 'lastUpdatedOn': 1684532020295, 'templateAttached': 0}, {'deviceType': 'vsmart', 'lastUpdatedBy': 'admin', 'resourceGroup': 'global', 'templateClass': 'vedge', 'configType': 'file', 'templateId': 'bf3f1a44-feb9-494b-97c2-450be319dd23', 'factoryDefault': False, 'templateName': 'vSmart_2_vmanage_mode_v1', 'devicesAttached': 1, 'templateDescription': 'vSmart_2_vmanage_mode_v1', 'draftMode': 'Disabled', 'lastUpdatedOn': 1684532480542, 'templateAttached': 0}, {'deviceType': 'vedge-cloud', 'lastUpdatedBy': 'admin', 'resourceGroup': 'global', 'templateClass': 'vedge', 'configType': 'file', 'templateId': '72fc9df6-19e5-44ad-9167-2225b6d0bca5', 'factoryDefault': False, 'templateName': 'vbond_1', 'devicesAttached': 1, 'templateDescription': 'vbond_1', 'draftMode': 'Disabled', 'lastUpdatedOn': 1684533663381, 'templateAttached': 0}, {'deviceType': 'vedge-cloud', 'lastUpdatedBy': 'admin', 'resourceGroup': 'global', 'templateClass': 'vedge', 'configType': 'file', 'templateId': '6397c9e5-bf4e-4ef9-91f2-37bb9a6e0176', 'factoryDefault': False, 'templateName': 'vbond_2', 'devicesAttached': 1, 'templateDescription': 'vbond_2', 'draftMode': 'Disabled', 'lastUpdatedOn': 1684533649011, 'templateAttached': 0}, {'deviceType': 'vedge-C8000V', 'lastUpdatedBy': 'system', 'resourceGroup': 'global', 'deviceRole': 'sdwan-edge', 'templateClass': 'cedge', 'configType': 'template', 'templateId': '9a3d6d79-1568-434b-906f-30b0d97a8110', 'factoryDefault': True, 'templateName': 'Default_AWS_TGW_C8000V_Template_V01', 'devicesAttached': 0, 'templateDescription': 'Default device template for AWS TGW C8000V', 'lastUpdatedOn': 1684511378791, 'templateAttached': 11, 'draftMode': 'Disabled'}, {'deviceType': 'vedge-CSR-1000v', 'lastUpdatedBy': 'system', 'resourceGroup': 'global', 'deviceRole': 'sdwan-edge', 'templateClass': 'cedge', 'configType': 'template', 'templateId': 'fcdf0426-562a-4355-9484-4f220e9fdb45', 'factoryDefault': True, 'templateName': 'Default_AWS_TGW_CSR1000V_Template_V01', 'devicesAttached': 0, 'templateDescription': 'Default device template for AWS TGW CSR1000V', 'lastUpdatedOn': 1684511380620, 'templateAttached': 11, 'draftMode': 'Disabled'}, {'deviceType': 'vedge-C8000V', 'lastUpdatedBy': 'system', 'resourceGroup': 'global', 'deviceRole': 'sdwan-edge', 'templateClass': 'cedge', 'configType': 'template', 'templateId': '469b63eb-d491-4180-bcc5-120580936c04', 'factoryDefault': True, 'templateName': 'Default_Azure_vWAN_C8000V_Template_V01', 'devicesAttached': 0, 'templateDescription': 'Default device template for Azure vWAN C8000V', 'lastUpdatedOn': 1684511381359, 'templateAttached': 11, 'draftMode': 'Disabled'}, {'deviceType': 'vedge-C8000V', 'lastUpdatedBy': 'system', 'resourceGroup': 'global', 'deviceRole': 'sdwan-edge', 'templateClass': 'cedge', 'configType': 'template', 'templateId': '7333e065-c181-4869-b567-5cde613a4ca2', 'factoryDefault': True, 'templateName': 'Default_BOOTSTRAP_DHCP_8000V_Template_V01', 'devicesAttached': 0, 'templateDescription': 'Default device template for onboarding C8000V devices with dhcp configurations', 'lastUpdatedOn': 1684511382001, 'templateAttached': 11, 'draftMode': 'Disabled'}, {'deviceType': 'vedge-C8000V', 'lastUpdatedBy': 'system', 'resourceGroup': 'global', 'deviceRole': 'sdwan-edge', 'templateClass': 'cedge', 'configType': 'template', 'templateId': 'aca67b2a-4d56-4205-9c32-babf9ac4fc39', 'factoryDefault': True, 'templateName': 'Default_BOOTSTRAP_STATIC_8000V_Template_V01', 'devicesAttached': 0, 'templateDescription': 'Default device template for AWS TGW C8000V', 'lastUpdatedOn': 1684511383215, 'templateAttached': 10, 'draftMode': 'Disabled'}, {'deviceType': 'vedge-CSR-1000v', 'lastUpdatedBy': 'system', 'resourceGroup': 'global', 'deviceRole': 'sdwan-edge', 'templateClass': 'cedge', 'configType': 'template', 'templateId': '5dd51f9f-9c3f-4d1a-b417-658a235f11fa', 'factoryDefault': True, 'templateName': 'Default_EQUINIX_DHCP_DNS_ICGW_CSR1000V_Template_V02', 'devicesAttached': 0, 'templateDescription': 'Default DHCP DNS device template for Equinix Interconnect Gateway CSR1000V', 'lastUpdatedOn': 1684511383309, 'templateAttached': 11, 'draftMode': 'Disabled'}, {'deviceType': 'vedge-C8000V', 'lastUpdatedBy': 'system', 'resourceGroup': 'global', 'deviceRole': 'sdwan-edge', 'templateClass': 'cedge', 'configType': 'template', 'templateId': '95994956-8924-433a-8858-c40e63f8e4fb', 'factoryDefault': True, 'templateName': 'Default_GCP_C8000V_Template_V01', 'devicesAttached': 0, 'templateDescription': 'Default device template for GCP C8000V', 'lastUpdatedOn': 1684511380684, 'templateAttached': 10, 'draftMode': 'Disabled'}, {'deviceType': 'vedge-C8000V', 'lastUpdatedBy': 'system', 'resourceGroup': 'global', 'deviceRole': 'sdwan-edge', 'templateClass': 'cedge', 'configType': 'template', 'templateId': 'e17c9349-de8d-4356-a64d-fa64b8159660', 'factoryDefault': True, 'templateName': 'Default_MEGAPORT_ICGW_C8000V_Template_V01', 'devicesAttached': 0, 'templateDescription': 'Default device template for Megaport Interconnect Gateway C8000V', 'lastUpdatedOn': 1684511382666, 'templateAttached': 9, 'draftMode': 'Disabled'}, {'deviceType': 'vedge-C8000V', 'lastUpdatedBy': 'system', 'resourceGroup': 'global', 'deviceRole': 'sdwan-edge', 'templateClass': 'cedge', 'configType': 'template', 'templateId': '144ccc59-bc07-42c4-bc33-1cac56e4ca4b', 'factoryDefault': True, 'templateName': 'Default_SDBranch_C8000V_Template_V01', 'devicesAttached': 0, 'templateDescription': 'Default device template for SD Branch C8000V', 'lastUpdatedOn': 1684511377826, 'templateAttached': 16, 'draftMode': 'Disabled'}, {'deviceType': 'vedge-ISRv', 'lastUpdatedBy': 'system', 'resourceGroup': 'global', 'deviceRole': 'sdwan-edge', 'templateClass': 'cedge', 'configType': 'template', 'templateId': 'd0348ebd-d813-462a-956d-6cb161a54c96', 'factoryDefault': True, 'templateName': 'Default_SDBranch_ISRv_Template_V01', 'devicesAttached': 0, 'templateDescription': 'Default device template for SD Branch ISRv', 'lastUpdatedOn': 1684511382331, 'templateAttached': 16, 'draftMode': 'Disabled'}, {'deviceType': 'vedge-cloud', 'lastUpdatedBy': 'system', 'resourceGroup': 'global', 'deviceRole': 'sdwan-edge', 'templateClass': 'vedge', 'configType': 'template', 'templateId': '493ca1ac-9f29-4c73-ac97-d598aed4fd83', 'factoryDefault': True, 'templateName': 'Default_SDBranch_vEdge_cloud_Template_V01', 'devicesAttached': 0, 'templateDescription': 'Default device template for SD Branch vedge cloud', 'lastUpdatedOn': 1684511379782, 'templateAttached': 14, 'draftMode': 'Disabled'}, {'deviceType': 'vedge-C8000V', 'lastUpdatedBy': 'system', 'resourceGroup': 'global', 'deviceRole': 'sdwan-edge', 'templateClass': 'cedge', 'configType': 'template', 'templateId': '15e293f3-5998-4828-8d72-0b1f66d37de9', 'factoryDefault': True, 'templateName': 'Factory_Default_1_TLOC_Branch_Template', 'devicesAttached': 0, 'templateDescription': 'Factory Default 1 TLOC Branch Template for CSR C8000V', 'lastUpdatedOn': 1684511381288, 'templateAttached': 17, 'draftMode': 'Disabled'}, {'deviceType': 'vedge-C1111-8PLTELA', 'lastUpdatedBy': 'system', 'resourceGroup': 'global', 'deviceRole': 'sdwan-edge', 'templateClass': 'cedge', 'configType': 'template', 'templateId': '7949d736-e1de-4581-8696-34ffe17b2c53', 'factoryDefault': True, 'templateName': 'Factory_Default_C1111_8PLTELA_V01', 'devicesAttached': 0, 'templateDescription': 'Factory Default template for C1111-8PLTELA', 'lastUpdatedOn': 1684511378849, 'templateAttached': 15, 'draftMode': 'Disabled'}, {'deviceType': 'vedge-C8000V', 'lastUpdatedBy': 'system', 'resourceGroup': 'global', 'deviceRole': 'sdwan-edge', 'templateClass': 'cedge', 'configType': 'template', 'templateId': 'e40860ad-87f6-4235-9cc6-61cea78dfb2e', 'factoryDefault': True, 'templateName': 'Factory_Default_C8000V_V01', 'devicesAttached': 0, 'templateDescription': 'Factory Default template for  C8000V', 'lastUpdatedOn': 1684511383839, 'templateAttached': 22, 'draftMode': 'Disabled'}, {'deviceType': 'vedge-C8000V', 'lastUpdatedBy': 'system', 'resourceGroup': 'global', 'deviceRole': 'sdwan-edge', 'templateClass': 'cedge', 'configType': 'template', 'templateId': '4c3a59ec-9504-4af5-9555-8f1d220d413a', 'factoryDefault': True, 'templateName': 'Factory_Default_DC1_HUB', 'devicesAttached': 0, 'templateDescription': 'Factory Default DC1 HUB for CSR C8000V', 'lastUpdatedOn': 1684511379504, 'templateAttached': 19, 'draftMode': 'Disabled'}, {'deviceType': 'vedge-ISR-4331', 'lastUpdatedBy': 'system', 'resourceGroup': 'global', 'deviceRole': 'sdwan-edge', 'templateClass': 'cedge', 'configType': 'template', 'templateId': '86c96c32-71ab-432a-964a-ed29db3945e9', 'factoryDefault': True, 'templateName': 'Factory_Default_ISR_4331_V01', 'devicesAttached': 0, 'templateDescription': 'Factory Default template for ISR4331 device', 'lastUpdatedOn': 1684511377756, 'templateAttached': 14, 'draftMode': 'Disabled'}]]\n",
      "[{'generatedOn': 1684772786752, 'viewKeys': {'uniqueKey': [], 'preferenceKey': 'grid-TemplateMasterWithFeature'}, 'columns': [{'title': 'Name', 'property': 'templateName', 'hideable': False, 'dataType': 'string'}, {'title': 'Description', 'property': 'templateDescription', 'dataType': 'string'}, {'title': 'Type', 'property': 'configType', 'display': 'keyvalue', 'keyvalueProperty': 'configType', 'hideable': False, 'keyvalue': [{'key': 'file', 'value': 'CLI'}, {'key': 'template', 'value': 'Feature'}], 'dataType': 'string'}, {'title': 'Device Model', 'property': 'deviceType', 'display': 'keyvalue', 'keyvalueProperty': 'deviceType', 'hideable': False, 'minWidth': 100, 'dataType': 'string'}, {'title': 'Device Role', 'property': 'deviceRole', 'display': 'keyvalue', 'keyvalueProperty': 'deviceRole', 'hideable': False, 'keyvalue': [{'key': 'sdwan-edge', 'value': 'SDWAN Edge'}, {'key': 'service-node', 'value': 'Service Node'}], 'minWidth': 100, 'dataType': 'string'}, {'title': 'Feature Templates', 'property': 'templateAttached', 'dataType': 'string'}, {'title': 'Draft Mode', 'property': 'draftMode', 'dataType': 'string'}, {'title': 'Devices Attached', 'property': 'devicesAttached', 'display': 'deviceLinkCell', 'dataType': 'number'}, {'title': 'Updated By', 'property': 'lastUpdatedBy', 'dataType': 'string'}, {'title': 'Last Updated', 'property': 'lastUpdatedOn', 'displayFormat': 'DD MMM YYYY h:mm:ss A z', 'inputFormat': 'unix-time', 'dataType': 'date'}], 'fields': [{'property': 'templateName', 'dataType': 'string'}, {'property': 'templateDescription', 'dataType': 'string'}, {'property': 'configType', 'dataType': 'string', 'display': 'keyvalue'}, {'property': 'deviceType', 'dataType': 'string', 'display': 'keyvalue'}, {'property': 'deviceRole', 'dataType': 'string', 'display': 'keyvalue'}, {'property': 'templateAttached', 'dataType': 'string'}, {'property': 'draftMode', 'dataType': 'string'}, {'property': 'devicesAttached', 'dataType': 'number', 'display': 'deviceLinkCell'}, {'property': 'lastUpdatedBy', 'dataType': 'string'}, {'property': 'lastUpdatedOn', 'dataType': 'date'}]}, [{'deviceType': 'vsmart', 'lastUpdatedBy': 'admin', 'resourceGroup': 'global', 'templateClass': 'vedge', 'configType': 'file', 'templateId': 'e0219d2d-41b4-481b-af2f-eecd89506f9d', 'factoryDefault': False, 'templateName': 'vSmart_vmanage_mode_v1', 'devicesAttached': 1, 'templateDescription': 'vSmart_vmanage_mode', 'draftMode': 'Disabled', 'lastUpdatedOn': 1684532020295, 'templateAttached': 0}, {'deviceType': 'vsmart', 'lastUpdatedBy': 'admin', 'resourceGroup': 'global', 'templateClass': 'vedge', 'configType': 'file', 'templateId': 'bf3f1a44-feb9-494b-97c2-450be319dd23', 'factoryDefault': False, 'templateName': 'vSmart_2_vmanage_mode_v1', 'devicesAttached': 1, 'templateDescription': 'vSmart_2_vmanage_mode_v1', 'draftMode': 'Disabled', 'lastUpdatedOn': 1684532480542, 'templateAttached': 0}, {'deviceType': 'vedge-cloud', 'lastUpdatedBy': 'admin', 'resourceGroup': 'global', 'templateClass': 'vedge', 'configType': 'file', 'templateId': '72fc9df6-19e5-44ad-9167-2225b6d0bca5', 'factoryDefault': False, 'templateName': 'vbond_1', 'devicesAttached': 1, 'templateDescription': 'vbond_1', 'draftMode': 'Disabled', 'lastUpdatedOn': 1684533663381, 'templateAttached': 0}, {'deviceType': 'vedge-cloud', 'lastUpdatedBy': 'admin', 'resourceGroup': 'global', 'templateClass': 'vedge', 'configType': 'file', 'templateId': '6397c9e5-bf4e-4ef9-91f2-37bb9a6e0176', 'factoryDefault': False, 'templateName': 'vbond_2', 'devicesAttached': 1, 'templateDescription': 'vbond_2', 'draftMode': 'Disabled', 'lastUpdatedOn': 1684533649011, 'templateAttached': 0}, {'deviceType': 'vedge-C8000V', 'lastUpdatedBy': 'system', 'resourceGroup': 'global', 'deviceRole': 'sdwan-edge', 'templateClass': 'cedge', 'configType': 'template', 'templateId': '9a3d6d79-1568-434b-906f-30b0d97a8110', 'factoryDefault': True, 'templateName': 'Default_AWS_TGW_C8000V_Template_V01', 'devicesAttached': 0, 'templateDescription': 'Default device template for AWS TGW C8000V', 'lastUpdatedOn': 1684511378791, 'templateAttached': 11, 'draftMode': 'Disabled'}, {'deviceType': 'vedge-CSR-1000v', 'lastUpdatedBy': 'system', 'resourceGroup': 'global', 'deviceRole': 'sdwan-edge', 'templateClass': 'cedge', 'configType': 'template', 'templateId': 'fcdf0426-562a-4355-9484-4f220e9fdb45', 'factoryDefault': True, 'templateName': 'Default_AWS_TGW_CSR1000V_Template_V01', 'devicesAttached': 0, 'templateDescription': 'Default device template for AWS TGW CSR1000V', 'lastUpdatedOn': 1684511380620, 'templateAttached': 11, 'draftMode': 'Disabled'}, {'deviceType': 'vedge-C8000V', 'lastUpdatedBy': 'system', 'resourceGroup': 'global', 'deviceRole': 'sdwan-edge', 'templateClass': 'cedge', 'configType': 'template', 'templateId': '469b63eb-d491-4180-bcc5-120580936c04', 'factoryDefault': True, 'templateName': 'Default_Azure_vWAN_C8000V_Template_V01', 'devicesAttached': 0, 'templateDescription': 'Default device template for Azure vWAN C8000V', 'lastUpdatedOn': 1684511381359, 'templateAttached': 11, 'draftMode': 'Disabled'}, {'deviceType': 'vedge-C8000V', 'lastUpdatedBy': 'system', 'resourceGroup': 'global', 'deviceRole': 'sdwan-edge', 'templateClass': 'cedge', 'configType': 'template', 'templateId': '7333e065-c181-4869-b567-5cde613a4ca2', 'factoryDefault': True, 'templateName': 'Default_BOOTSTRAP_DHCP_8000V_Template_V01', 'devicesAttached': 0, 'templateDescription': 'Default device template for onboarding C8000V devices with dhcp configurations', 'lastUpdatedOn': 1684511382001, 'templateAttached': 11, 'draftMode': 'Disabled'}, {'deviceType': 'vedge-C8000V', 'lastUpdatedBy': 'system', 'resourceGroup': 'global', 'deviceRole': 'sdwan-edge', 'templateClass': 'cedge', 'configType': 'template', 'templateId': 'aca67b2a-4d56-4205-9c32-babf9ac4fc39', 'factoryDefault': True, 'templateName': 'Default_BOOTSTRAP_STATIC_8000V_Template_V01', 'devicesAttached': 0, 'templateDescription': 'Default device template for AWS TGW C8000V', 'lastUpdatedOn': 1684511383215, 'templateAttached': 10, 'draftMode': 'Disabled'}, {'deviceType': 'vedge-CSR-1000v', 'lastUpdatedBy': 'system', 'resourceGroup': 'global', 'deviceRole': 'sdwan-edge', 'templateClass': 'cedge', 'configType': 'template', 'templateId': '5dd51f9f-9c3f-4d1a-b417-658a235f11fa', 'factoryDefault': True, 'templateName': 'Default_EQUINIX_DHCP_DNS_ICGW_CSR1000V_Template_V02', 'devicesAttached': 0, 'templateDescription': 'Default DHCP DNS device template for Equinix Interconnect Gateway CSR1000V', 'lastUpdatedOn': 1684511383309, 'templateAttached': 11, 'draftMode': 'Disabled'}, {'deviceType': 'vedge-C8000V', 'lastUpdatedBy': 'system', 'resourceGroup': 'global', 'deviceRole': 'sdwan-edge', 'templateClass': 'cedge', 'configType': 'template', 'templateId': '95994956-8924-433a-8858-c40e63f8e4fb', 'factoryDefault': True, 'templateName': 'Default_GCP_C8000V_Template_V01', 'devicesAttached': 0, 'templateDescription': 'Default device template for GCP C8000V', 'lastUpdatedOn': 1684511380684, 'templateAttached': 10, 'draftMode': 'Disabled'}, {'deviceType': 'vedge-C8000V', 'lastUpdatedBy': 'system', 'resourceGroup': 'global', 'deviceRole': 'sdwan-edge', 'templateClass': 'cedge', 'configType': 'template', 'templateId': 'e17c9349-de8d-4356-a64d-fa64b8159660', 'factoryDefault': True, 'templateName': 'Default_MEGAPORT_ICGW_C8000V_Template_V01', 'devicesAttached': 0, 'templateDescription': 'Default device template for Megaport Interconnect Gateway C8000V', 'lastUpdatedOn': 1684511382666, 'templateAttached': 9, 'draftMode': 'Disabled'}, {'deviceType': 'vedge-C8000V', 'lastUpdatedBy': 'system', 'resourceGroup': 'global', 'deviceRole': 'sdwan-edge', 'templateClass': 'cedge', 'configType': 'template', 'templateId': '144ccc59-bc07-42c4-bc33-1cac56e4ca4b', 'factoryDefault': True, 'templateName': 'Default_SDBranch_C8000V_Template_V01', 'devicesAttached': 0, 'templateDescription': 'Default device template for SD Branch C8000V', 'lastUpdatedOn': 1684511377826, 'templateAttached': 16, 'draftMode': 'Disabled'}, {'deviceType': 'vedge-ISRv', 'lastUpdatedBy': 'system', 'resourceGroup': 'global', 'deviceRole': 'sdwan-edge', 'templateClass': 'cedge', 'configType': 'template', 'templateId': 'd0348ebd-d813-462a-956d-6cb161a54c96', 'factoryDefault': True, 'templateName': 'Default_SDBranch_ISRv_Template_V01', 'devicesAttached': 0, 'templateDescription': 'Default device template for SD Branch ISRv', 'lastUpdatedOn': 1684511382331, 'templateAttached': 16, 'draftMode': 'Disabled'}, {'deviceType': 'vedge-cloud', 'lastUpdatedBy': 'system', 'resourceGroup': 'global', 'deviceRole': 'sdwan-edge', 'templateClass': 'vedge', 'configType': 'template', 'templateId': '493ca1ac-9f29-4c73-ac97-d598aed4fd83', 'factoryDefault': True, 'templateName': 'Default_SDBranch_vEdge_cloud_Template_V01', 'devicesAttached': 0, 'templateDescription': 'Default device template for SD Branch vedge cloud', 'lastUpdatedOn': 1684511379782, 'templateAttached': 14, 'draftMode': 'Disabled'}, {'deviceType': 'vedge-C8000V', 'lastUpdatedBy': 'system', 'resourceGroup': 'global', 'deviceRole': 'sdwan-edge', 'templateClass': 'cedge', 'configType': 'template', 'templateId': '15e293f3-5998-4828-8d72-0b1f66d37de9', 'factoryDefault': True, 'templateName': 'Factory_Default_1_TLOC_Branch_Template', 'devicesAttached': 0, 'templateDescription': 'Factory Default 1 TLOC Branch Template for CSR C8000V', 'lastUpdatedOn': 1684511381288, 'templateAttached': 17, 'draftMode': 'Disabled'}, {'deviceType': 'vedge-C1111-8PLTELA', 'lastUpdatedBy': 'system', 'resourceGroup': 'global', 'deviceRole': 'sdwan-edge', 'templateClass': 'cedge', 'configType': 'template', 'templateId': '7949d736-e1de-4581-8696-34ffe17b2c53', 'factoryDefault': True, 'templateName': 'Factory_Default_C1111_8PLTELA_V01', 'devicesAttached': 0, 'templateDescription': 'Factory Default template for C1111-8PLTELA', 'lastUpdatedOn': 1684511378849, 'templateAttached': 15, 'draftMode': 'Disabled'}, {'deviceType': 'vedge-C8000V', 'lastUpdatedBy': 'system', 'resourceGroup': 'global', 'deviceRole': 'sdwan-edge', 'templateClass': 'cedge', 'configType': 'template', 'templateId': 'e40860ad-87f6-4235-9cc6-61cea78dfb2e', 'factoryDefault': True, 'templateName': 'Factory_Default_C8000V_V01', 'devicesAttached': 0, 'templateDescription': 'Factory Default template for  C8000V', 'lastUpdatedOn': 1684511383839, 'templateAttached': 22, 'draftMode': 'Disabled'}, {'deviceType': 'vedge-C8000V', 'lastUpdatedBy': 'system', 'resourceGroup': 'global', 'deviceRole': 'sdwan-edge', 'templateClass': 'cedge', 'configType': 'template', 'templateId': '4c3a59ec-9504-4af5-9555-8f1d220d413a', 'factoryDefault': True, 'templateName': 'Factory_Default_DC1_HUB', 'devicesAttached': 0, 'templateDescription': 'Factory Default DC1 HUB for CSR C8000V', 'lastUpdatedOn': 1684511379504, 'templateAttached': 19, 'draftMode': 'Disabled'}, {'deviceType': 'vedge-ISR-4331', 'lastUpdatedBy': 'system', 'resourceGroup': 'global', 'deviceRole': 'sdwan-edge', 'templateClass': 'cedge', 'configType': 'template', 'templateId': '86c96c32-71ab-432a-964a-ed29db3945e9', 'factoryDefault': True, 'templateName': 'Factory_Default_ISR_4331_V01', 'devicesAttached': 0, 'templateDescription': 'Factory Default template for ISR4331 device', 'lastUpdatedOn': 1684511377756, 'templateAttached': 14, 'draftMode': 'Disabled'}]]\n"
     ]
    }
   ],
   "source": [
    "print(list(access_json.values()))\n",
    "dict_valuesList = [access_json[dict_key] for dict_key in access_json]\n",
    "\n",
    "# Printing the list of all the values of a dictionary\n",
    "print(dict_valuesList)\n"
   ]
  },
  {
   "cell_type": "code",
   "execution_count": 81,
   "id": "7584fa0c",
   "metadata": {
    "pycharm": {
     "name": "#%%\n"
    }
   },
   "outputs": [
    {
     "name": "stdout",
     "output_type": "stream",
     "text": [
      "dict_keys(['header', 'data'])\n"
     ]
    }
   ],
   "source": [
    "print(access_json.keys())"
   ]
  },
  {
   "cell_type": "code",
   "execution_count": 86,
   "id": "1699b89b",
   "metadata": {
    "pycharm": {
     "name": "#%%\n"
    }
   },
   "outputs": [
    {
     "name": "stdout",
     "output_type": "stream",
     "text": [
      "[{'deviceType': 'vsmart', 'lastUpdatedBy': 'admin', 'resourceGroup': 'global', 'templateClass': 'vedge', 'configType': 'file', 'templateId': 'e0219d2d-41b4-481b-af2f-eecd89506f9d', 'factoryDefault': False, 'templateName': 'vSmart_vmanage_mode_v1', 'devicesAttached': 1, 'templateDescription': 'vSmart_vmanage_mode', 'draftMode': 'Disabled', 'lastUpdatedOn': 1684532020295, 'templateAttached': 0}, {'deviceType': 'vsmart', 'lastUpdatedBy': 'admin', 'resourceGroup': 'global', 'templateClass': 'vedge', 'configType': 'file', 'templateId': 'bf3f1a44-feb9-494b-97c2-450be319dd23', 'factoryDefault': False, 'templateName': 'vSmart_2_vmanage_mode_v1', 'devicesAttached': 1, 'templateDescription': 'vSmart_2_vmanage_mode_v1', 'draftMode': 'Disabled', 'lastUpdatedOn': 1684532480542, 'templateAttached': 0}, {'deviceType': 'vedge-cloud', 'lastUpdatedBy': 'admin', 'resourceGroup': 'global', 'templateClass': 'vedge', 'configType': 'file', 'templateId': '72fc9df6-19e5-44ad-9167-2225b6d0bca5', 'factoryDefault': False, 'templateName': 'vbond_1', 'devicesAttached': 1, 'templateDescription': 'vbond_1', 'draftMode': 'Disabled', 'lastUpdatedOn': 1684533663381, 'templateAttached': 0}, {'deviceType': 'vedge-cloud', 'lastUpdatedBy': 'admin', 'resourceGroup': 'global', 'templateClass': 'vedge', 'configType': 'file', 'templateId': '6397c9e5-bf4e-4ef9-91f2-37bb9a6e0176', 'factoryDefault': False, 'templateName': 'vbond_2', 'devicesAttached': 1, 'templateDescription': 'vbond_2', 'draftMode': 'Disabled', 'lastUpdatedOn': 1684533649011, 'templateAttached': 0}, {'deviceType': 'vedge-C8000V', 'lastUpdatedBy': 'system', 'resourceGroup': 'global', 'deviceRole': 'sdwan-edge', 'templateClass': 'cedge', 'configType': 'template', 'templateId': '9a3d6d79-1568-434b-906f-30b0d97a8110', 'factoryDefault': True, 'templateName': 'Default_AWS_TGW_C8000V_Template_V01', 'devicesAttached': 0, 'templateDescription': 'Default device template for AWS TGW C8000V', 'lastUpdatedOn': 1684511378791, 'templateAttached': 11, 'draftMode': 'Disabled'}, {'deviceType': 'vedge-CSR-1000v', 'lastUpdatedBy': 'system', 'resourceGroup': 'global', 'deviceRole': 'sdwan-edge', 'templateClass': 'cedge', 'configType': 'template', 'templateId': 'fcdf0426-562a-4355-9484-4f220e9fdb45', 'factoryDefault': True, 'templateName': 'Default_AWS_TGW_CSR1000V_Template_V01', 'devicesAttached': 0, 'templateDescription': 'Default device template for AWS TGW CSR1000V', 'lastUpdatedOn': 1684511380620, 'templateAttached': 11, 'draftMode': 'Disabled'}, {'deviceType': 'vedge-C8000V', 'lastUpdatedBy': 'system', 'resourceGroup': 'global', 'deviceRole': 'sdwan-edge', 'templateClass': 'cedge', 'configType': 'template', 'templateId': '469b63eb-d491-4180-bcc5-120580936c04', 'factoryDefault': True, 'templateName': 'Default_Azure_vWAN_C8000V_Template_V01', 'devicesAttached': 0, 'templateDescription': 'Default device template for Azure vWAN C8000V', 'lastUpdatedOn': 1684511381359, 'templateAttached': 11, 'draftMode': 'Disabled'}, {'deviceType': 'vedge-C8000V', 'lastUpdatedBy': 'system', 'resourceGroup': 'global', 'deviceRole': 'sdwan-edge', 'templateClass': 'cedge', 'configType': 'template', 'templateId': '7333e065-c181-4869-b567-5cde613a4ca2', 'factoryDefault': True, 'templateName': 'Default_BOOTSTRAP_DHCP_8000V_Template_V01', 'devicesAttached': 0, 'templateDescription': 'Default device template for onboarding C8000V devices with dhcp configurations', 'lastUpdatedOn': 1684511382001, 'templateAttached': 11, 'draftMode': 'Disabled'}, {'deviceType': 'vedge-C8000V', 'lastUpdatedBy': 'system', 'resourceGroup': 'global', 'deviceRole': 'sdwan-edge', 'templateClass': 'cedge', 'configType': 'template', 'templateId': 'aca67b2a-4d56-4205-9c32-babf9ac4fc39', 'factoryDefault': True, 'templateName': 'Default_BOOTSTRAP_STATIC_8000V_Template_V01', 'devicesAttached': 0, 'templateDescription': 'Default device template for AWS TGW C8000V', 'lastUpdatedOn': 1684511383215, 'templateAttached': 10, 'draftMode': 'Disabled'}, {'deviceType': 'vedge-CSR-1000v', 'lastUpdatedBy': 'system', 'resourceGroup': 'global', 'deviceRole': 'sdwan-edge', 'templateClass': 'cedge', 'configType': 'template', 'templateId': '5dd51f9f-9c3f-4d1a-b417-658a235f11fa', 'factoryDefault': True, 'templateName': 'Default_EQUINIX_DHCP_DNS_ICGW_CSR1000V_Template_V02', 'devicesAttached': 0, 'templateDescription': 'Default DHCP DNS device template for Equinix Interconnect Gateway CSR1000V', 'lastUpdatedOn': 1684511383309, 'templateAttached': 11, 'draftMode': 'Disabled'}, {'deviceType': 'vedge-C8000V', 'lastUpdatedBy': 'system', 'resourceGroup': 'global', 'deviceRole': 'sdwan-edge', 'templateClass': 'cedge', 'configType': 'template', 'templateId': '95994956-8924-433a-8858-c40e63f8e4fb', 'factoryDefault': True, 'templateName': 'Default_GCP_C8000V_Template_V01', 'devicesAttached': 0, 'templateDescription': 'Default device template for GCP C8000V', 'lastUpdatedOn': 1684511380684, 'templateAttached': 10, 'draftMode': 'Disabled'}, {'deviceType': 'vedge-C8000V', 'lastUpdatedBy': 'system', 'resourceGroup': 'global', 'deviceRole': 'sdwan-edge', 'templateClass': 'cedge', 'configType': 'template', 'templateId': 'e17c9349-de8d-4356-a64d-fa64b8159660', 'factoryDefault': True, 'templateName': 'Default_MEGAPORT_ICGW_C8000V_Template_V01', 'devicesAttached': 0, 'templateDescription': 'Default device template for Megaport Interconnect Gateway C8000V', 'lastUpdatedOn': 1684511382666, 'templateAttached': 9, 'draftMode': 'Disabled'}, {'deviceType': 'vedge-C8000V', 'lastUpdatedBy': 'system', 'resourceGroup': 'global', 'deviceRole': 'sdwan-edge', 'templateClass': 'cedge', 'configType': 'template', 'templateId': '144ccc59-bc07-42c4-bc33-1cac56e4ca4b', 'factoryDefault': True, 'templateName': 'Default_SDBranch_C8000V_Template_V01', 'devicesAttached': 0, 'templateDescription': 'Default device template for SD Branch C8000V', 'lastUpdatedOn': 1684511377826, 'templateAttached': 16, 'draftMode': 'Disabled'}, {'deviceType': 'vedge-ISRv', 'lastUpdatedBy': 'system', 'resourceGroup': 'global', 'deviceRole': 'sdwan-edge', 'templateClass': 'cedge', 'configType': 'template', 'templateId': 'd0348ebd-d813-462a-956d-6cb161a54c96', 'factoryDefault': True, 'templateName': 'Default_SDBranch_ISRv_Template_V01', 'devicesAttached': 0, 'templateDescription': 'Default device template for SD Branch ISRv', 'lastUpdatedOn': 1684511382331, 'templateAttached': 16, 'draftMode': 'Disabled'}, {'deviceType': 'vedge-cloud', 'lastUpdatedBy': 'system', 'resourceGroup': 'global', 'deviceRole': 'sdwan-edge', 'templateClass': 'vedge', 'configType': 'template', 'templateId': '493ca1ac-9f29-4c73-ac97-d598aed4fd83', 'factoryDefault': True, 'templateName': 'Default_SDBranch_vEdge_cloud_Template_V01', 'devicesAttached': 0, 'templateDescription': 'Default device template for SD Branch vedge cloud', 'lastUpdatedOn': 1684511379782, 'templateAttached': 14, 'draftMode': 'Disabled'}, {'deviceType': 'vedge-C8000V', 'lastUpdatedBy': 'system', 'resourceGroup': 'global', 'deviceRole': 'sdwan-edge', 'templateClass': 'cedge', 'configType': 'template', 'templateId': '15e293f3-5998-4828-8d72-0b1f66d37de9', 'factoryDefault': True, 'templateName': 'Factory_Default_1_TLOC_Branch_Template', 'devicesAttached': 0, 'templateDescription': 'Factory Default 1 TLOC Branch Template for CSR C8000V', 'lastUpdatedOn': 1684511381288, 'templateAttached': 17, 'draftMode': 'Disabled'}, {'deviceType': 'vedge-C1111-8PLTELA', 'lastUpdatedBy': 'system', 'resourceGroup': 'global', 'deviceRole': 'sdwan-edge', 'templateClass': 'cedge', 'configType': 'template', 'templateId': '7949d736-e1de-4581-8696-34ffe17b2c53', 'factoryDefault': True, 'templateName': 'Factory_Default_C1111_8PLTELA_V01', 'devicesAttached': 0, 'templateDescription': 'Factory Default template for C1111-8PLTELA', 'lastUpdatedOn': 1684511378849, 'templateAttached': 15, 'draftMode': 'Disabled'}, {'deviceType': 'vedge-C8000V', 'lastUpdatedBy': 'system', 'resourceGroup': 'global', 'deviceRole': 'sdwan-edge', 'templateClass': 'cedge', 'configType': 'template', 'templateId': 'e40860ad-87f6-4235-9cc6-61cea78dfb2e', 'factoryDefault': True, 'templateName': 'Factory_Default_C8000V_V01', 'devicesAttached': 0, 'templateDescription': 'Factory Default template for  C8000V', 'lastUpdatedOn': 1684511383839, 'templateAttached': 22, 'draftMode': 'Disabled'}, {'deviceType': 'vedge-C8000V', 'lastUpdatedBy': 'system', 'resourceGroup': 'global', 'deviceRole': 'sdwan-edge', 'templateClass': 'cedge', 'configType': 'template', 'templateId': '4c3a59ec-9504-4af5-9555-8f1d220d413a', 'factoryDefault': True, 'templateName': 'Factory_Default_DC1_HUB', 'devicesAttached': 0, 'templateDescription': 'Factory Default DC1 HUB for CSR C8000V', 'lastUpdatedOn': 1684511379504, 'templateAttached': 19, 'draftMode': 'Disabled'}, {'deviceType': 'vedge-ISR-4331', 'lastUpdatedBy': 'system', 'resourceGroup': 'global', 'deviceRole': 'sdwan-edge', 'templateClass': 'cedge', 'configType': 'template', 'templateId': '86c96c32-71ab-432a-964a-ed29db3945e9', 'factoryDefault': True, 'templateName': 'Factory_Default_ISR_4331_V01', 'devicesAttached': 0, 'templateDescription': 'Factory Default template for ISR4331 device', 'lastUpdatedOn': 1684511377756, 'templateAttached': 14, 'draftMode': 'Disabled'}]\n",
      "<class 'list'>\n"
     ]
    }
   ],
   "source": [
    "access_data = access_json['data']\n",
    "print(access_data)\n",
    "print(type(access_data))"
   ]
  },
  {
   "cell_type": "code",
   "execution_count": 101,
   "id": "c74a2787",
   "metadata": {
    "pycharm": {
     "name": "#%%\n"
    }
   },
   "outputs": [
    {
     "name": "stdout",
     "output_type": "stream",
     "text": [
      "[]\n"
     ]
    }
   ],
   "source": [
    "list_of_dicts = access_data\n",
    "sought_value = \"deviceType\"\n",
    "found_values = []\n",
    "for dictionary in list_of_dicts:\n",
    "    if(dictionary[\"templateClass\"] == \"ISR4331'\"):\n",
    "        found_values.append(dictionary)\n",
    "print(found_values)"
   ]
  },
  {
   "cell_type": "code",
   "execution_count": null,
   "id": "6110687f",
   "metadata": {
    "pycharm": {
     "name": "#%%\n"
    }
   },
   "outputs": [],
   "source": []
  }
 ],
 "metadata": {
  "kernelspec": {
   "display_name": "Python 3 (ipykernel)",
   "language": "python",
   "name": "python3"
  },
  "language_info": {
   "codemirror_mode": {
    "name": "ipython",
    "version": 3
   },
   "file_extension": ".py",
   "mimetype": "text/x-python",
   "name": "python",
   "nbconvert_exporter": "python",
   "pygments_lexer": "ipython3",
   "version": "3.11.1"
  }
 },
 "nbformat": 4,
 "nbformat_minor": 5
}