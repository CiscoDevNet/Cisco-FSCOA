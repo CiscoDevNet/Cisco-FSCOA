{
 "cells": [
  {
   "cell_type": "code",
   "execution_count": 16,
   "id": "8fdc6981",
   "metadata": {},
   "outputs": [
    {
     "name": "stdout",
     "output_type": "stream",
     "text": [
      "{'User-Agent': 'python-requests/2.28.2', 'Accept-Encoding': 'gzip, deflate', 'Accept': '*/*', 'Connection': 'keep-alive'}\n"
     ]
    }
   ],
   "source": [
    "import requests, urllib3\n",
    "import json\n",
    "urllib3.disable_warnings()\n",
    "\n",
    "def login():\n",
    "    baseurl = \"https://184.169.141.21:8443\"\n",
    "    authentication_endpoint = \"/j_security_check\"\n",
    "\n",
    "    headers = {\n",
    "        \"Content-Type\": \"application/json\",\n",
    "        \"Accept\": \"application/json\"\n",
    "    }\n",
    "\n",
    "    body = {\n",
    "        \"j_username\": \"admin\",\n",
    "        \"j_password\": \"admin1\",\n",
    "    }\n",
    "\n",
    "    session = requests.session()\n",
    "    requests.packages.urllib3.disable_warnings()\n",
    "\n",
    "    url = f\"{baseurl}{authentication_endpoint}\"\n",
    "    login_response = session.post(url, data=body, verify=False)\n",
    "\n",
    "    if b'<html>' in login_response.content:\n",
    "        print(\"Login Failed\")\n",
    "        import sys\n",
    "        sys.exit(0)\n",
    "    else:\n",
    "        #print(\"Login succeeded\")\n",
    "        return session\n",
    "\n",
    "if __name__ == \"__main__\":\n",
    "    response = login()\n",
    "    print(response.headers)\n",
    " "
   ]
  },
  {
   "cell_type": "code",
   "execution_count": 21,
   "id": "1379dd2b",
   "metadata": {},
   "outputs": [
    {
     "name": "stdout",
     "output_type": "stream",
     "text": [
      "<class 'requests.structures.CaseInsensitiveDict'>\n",
      "headstr type <class 'str'>\n",
      "headstr {'User-Agent': 'python-requests/2.28.2', 'Accept-Encoding': 'gzip, deflate', 'Accept': '*/*', 'Connection': 'keep-alive'}\n"
     ]
    }
   ],
   "source": [
    "head = response.headers\n",
    "print(type(head))\n",
    "print(\"headstr type\", type(headstr))\n",
    "print(\"headstr\", headstr)\n",
    "\n"
   ]
  },
  {
   "cell_type": "code",
   "execution_count": 22,
   "id": "57b5870f",
   "metadata": {},
   "outputs": [
    {
     "name": "stdout",
     "output_type": "stream",
     "text": [
      "python-requests/2.28.2',\n"
     ]
    }
   ],
   "source": [
    "headstr = repr(head)\n",
    "cook = headstr[16:40]\n",
    "print(cook)"
   ]
  },
  {
   "cell_type": "code",
   "execution_count": 23,
   "id": "7cc3c01a",
   "metadata": {},
   "outputs": [
    {
     "name": "stdout",
     "output_type": "stream",
     "text": [
      "<html>\n",
      "<head>\n",
      "    <meta charset=\"utf-8\">\n",
      "    <title>Cisco SD-WAN</title>\n",
      "    <link rel=\"stylesheet\" type=\"text/css\" href=\"/styles/login.css\">\n",
      "    <link rel=\"stylesheet\" type=\"text/css\" href=\"/fonts/font-awesome-4.2.0/css/font-awesome.min.css\">\n",
      "    <link rel=\"icon\" type=\"image/ico\" href=\"/images/favicon.ico\"/>\n",
      "</head>\n",
      "<body onload=\"init()\">\n",
      "<div name=\"Login\" class=\"loginContainer\">\n",
      "    <div class=\"loginInnerContainer\">\n",
      "        <!-- <div class=\"productCategory\">Cisco SD-WAN</div> -->\n",
      "        <form class=\"loginFormStyle\" name=\"loginForm\" id=\"loginForm\" action=\"j_security_check\" autocomplete=\"off\">\n",
      "            <div name=\"logoMainContainer\"  class=\"logoMainContainer\"></div>\n",
      "            <!-- <div class=\"brand-logo-text\"><span>Cisco vManage</span></div> -->\n",
      "            <img src=\"/images/sdwan_logo.svg\" alt=\"Cisco SD-WAN\" class=\"center\">\n",
      "            <div id=\"login-check-consent\">\n",
      "                <!-- show the notice message here -->\n",
      "            </div>\n",
      "            <div id=\"error-info-container\">\n",
      "                <div id=\"error-info\" role=\"alert\" aria-live=\"assertive\">\n",
      "                    <div id=\"errorInfoIcon\" name=\"errorInfoIcon\" class=\"errorInfoIcon\">\n",
      "                        <img src=\"/images/error.svg\" alt=\"Login Error\">\n",
      "                    </div>\n",
      "                    <div id=\"errorInfoText\">\n",
      "                        <span id=\"errorMessageBox\" name=\"errorMessageBox\" class=\"errorMessageBox\"></span>\n",
      "                        <span id=\"errorDetails\" class=\"errorDetails\">\n",
      "                            <ul>\n",
      "                            <li>If username and password are valid, user account is locked. Wait for some time and try again or contact Administrator</li>\n",
      "                            <li>If username and password are valid, password has expired. Contact Administrator</li>\n",
      "                            </ul>\n",
      "                        </span>\n",
      "                        <span id=\"accessForbiddenDetails\" class=\"errorDetails\">\n",
      "                            <ul>\n",
      "                                <li>Access Forbidden for this user. Contact Administrator.</li>\n",
      "                                <li>Please try with other login username and password. </li>\n",
      "                            </ul>\n",
      "                        </span>\n",
      "                    </div>\n",
      "                </div>\n",
      "            </div>\n",
      "            <div id=\"reboot_message\" class=\"reboot-message-block\" role=\"alert\" aria-modal=\"true\">\n",
      "                <div class=\"reboot-message\" id=\"rebootStatusMessage\"></div>\n",
      "                <!-- <i class=\"fa fa-circle-o-notch fa-spin fa-3x fa-fw\" style=\"color: #0bbbe9;\"></i> -->\n",
      "                <img src=\"/images/loader.png\" alt=\"Loader\" class=\"spinner\">\n",
      "            </div>\n",
      "            <div id=\"login_message\" style=\"display: none;\">\n",
      "                <div class='onyx-groupbox login-wrap' id=\"login-wrap\" name=\"inputFields\">\n",
      "                    <div id=\"frm_username\">\n",
      "                        <div class=\"onyx-input-decorator login-input\">\n",
      "                            <input type=\"text\" class=\"login-input-value\"  size=\"20\" autocomplete=\"off\"\n",
      "                                   id=\"j_username\" name=\"j_username\" maxlength=\"64\" placeholder=\"Username\" value=\"\" oninput=\"setView('1')\" autofocus />\n",
      "                            <label for=\"j_username\">Username</label>\n",
      "                        </div>\n",
      "                    </div>\n",
      "                    <div id=\"tacuser_container\">\n",
      "                        <div id=\"frm_challenge\">\n",
      "                            <div class=\"onyx-input-decorator login-input\">\n",
      "                                <input type=\"text\" class=\"login-input-value\"  size=\"34\" autocomplete=\"off\"\n",
      "                                       id=\"j_challenge\" name=\"j_challenge\" placeholder=\"Challenge Key\" value=\"\" onkeyup=\"validateTacForm()\"/>\n",
      "                                <label for=\"j_challenge\">Challenge Key</label>\n",
      "                                <div class=\"tacuser-icon-container\" >\n",
      "                                    <input type=\"checkbox\" id=\"copy_challenge\" onchange=\"copyToClipboard()\" />\n",
      "                                    <label for=\"copy_challenge\" class=\"icon\"></label>\n",
      "                                    <input type=\"checkbox\" id=\"refresh_challenge\" onchange=\"getChallenge('rekey')\" />\n",
      "                                    <label for=\"refresh_challenge\" class=\"icon\"></label>\n",
      "                                </div>\n",
      "                            </div>\n",
      "                        </div>\n",
      "                        <div id=\"frm_token\">\n",
      "                            \n",
      "                            <div class=\"onyx-input-decorator login-input\">\n",
      "                                <input type=\"text\" class=\"login-input-value\"  size=\"40\" autocomplete=\"off\"\n",
      "                                       id=\"j_token\" name=\"j_token\" placeholder=\"Access Token\" value=\"\" onpaste=\"validateTacForm()\" onkeyup=\"validateTacForm()\" />\n",
      "                                <label for=\"j_token\">Access Token</label>\n",
      "                            </div>\n",
      "                        </div>\n",
      "                    </div>\n",
      "                    <div id=\"frm_password\">\n",
      "                        \n",
      "                        <div class=\"onyx-input-decorator login-input input-password\">\n",
      "                            <input type=\"password\" class=\"login-input-value\"  size=\"20\" autocomplete=\"new-password\"\n",
      "                                   id=\"j_password\" name=\"j_password\" placeholder=\"Password\" value=\"\" oninput=\"setView('2')\"/>\n",
      "                            <label for=\"j_password\">Password</label>\n",
      "                            <div class=\"toggle-password-container\" >\n",
      "                                <input type=\"checkbox\" id=\"toggle_visibility\" onchange=\"toggleVisibility()\" />\n",
      "                                <label for=\"toggle_visibility\" class=\"icon\"></label>\n",
      "                            </div>\n",
      "                        </div>\n",
      "                    </div>\n",
      "                </div>\n",
      "                <div id=\"login-check-wrap\">\n",
      "                    <div class=\"login-check-row\">\n",
      "                        <div class=\"login-check-left\">\n",
      "                            <input type=\"checkbox\" id=\"j_fedrampuser\" name=\"j_fedrampuser\" onclick=\"toggleLogin()\">\n",
      "                        </div>\n",
      "                        <div class=\"login-check-right\" id=\"login-check-wrap-confirm\">\n",
      "                            <!-- show the confirm message here -->\n",
      "                        </div>\n",
      "                    </div>\n",
      "                </div>\n",
      "                <div class='onyx-sample-tools login-wrap'>\n",
      "                    <input type=\"button\" onclick=\"nextStep()\" name=\"continue\" value=\"Continue\" class=\"login-button-disabled\" id=\"continueBtn\" />\n",
      "                    <input type=\"button\" onclick=\"return validateForm()\" name=\"submit\" value=\"Log In\" class=\"login-button-disabled\" id=\"loginBtn\" />\n",
      "                </div>\n",
      "            </div>\n",
      "            <input type=\"hidden\" id=\"formType\" name=\"formType\" />\n",
      "        </form>\n",
      "    </div>\n",
      "</div>\n",
      "<script type=\"text/javascript\" src=\"/javascript/jquery-3.5.1.min.js\"></script>\n",
      "<script type=\"text/javascript\" src=\"/javascript/login.js\"></script>\n",
      "</body>\n",
      "</html>\n",
      "\n"
     ]
    }
   ],
   "source": [
    "url = \"https://184.169.141.21/dataservice/client/token\"\n",
    "payload={}\n",
    "headers={\n",
    "'Cookie': cook\n",
    "}\n",
    "\n",
    "reponse = requests.request(\"GET\", url, headers=headers, data=payload, verify=False)\n",
    "token=reponse.text\n",
    "print(token)"
   ]
  },
  {
   "cell_type": "code",
   "execution_count": null,
   "id": "91dfb360",
   "metadata": {},
   "outputs": [],
   "source": []
  }
 ],
 "metadata": {
  "kernelspec": {
   "display_name": "Python 3 (ipykernel)",
   "language": "python",
   "name": "python3"
  },
  "language_info": {
   "codemirror_mode": {
    "name": "ipython",
    "version": 3
   },
   "file_extension": ".py",
   "mimetype": "text/x-python",
   "name": "python",
   "nbconvert_exporter": "python",
   "pygments_lexer": "ipython3",
   "version": "3.11.1"
  }
 },
 "nbformat": 4,
 "nbformat_minor": 5
}
