{
 "cells": [
  {
   "cell_type": "code",
   "execution_count": 15,
   "id": "93e7d28b",
   "metadata": {},
   "outputs": [
    {
     "name": "stdout",
     "output_type": "stream",
     "text": [
      "<Response [201]>\n"
     ]
    }
   ],
   "source": [
    "#!/usr/bin/env python\n",
    "import json, re, sys, os, json, subprocess, time, logging, requests, urllib3\n",
    "from subprocess import call, check_output\n",
    "from requests.structures import CaseInsensitiveDict\n",
    "urllib3.disable_warnings()\n",
    "\n",
    "token='93cf48a3-15af-412c-80c5-30190da3b26c'\n",
    "\n",
    "#token = os.getenv('TE_OATHTOKEN')\n",
    "url = \"https://api.thousandeyes.com/v6/credentials/new.json\"\n",
    "payload = {'name': 'new_api_credential_2', 'value': 'secret p@ssword'}\n",
    "header = {'content-type': 'application/json', 'authorization': 'Bearer ' + token}\n",
    "r = requests.post(url, data=json.dumps(payload), headers=header, verify=False)\n",
    "print(r)\n"
   ]
  },
  {
   "cell_type": "code",
   "execution_count": 16,
   "id": "923a2e8e",
   "metadata": {},
   "outputs": [
    {
     "name": "stdout",
     "output_type": "stream",
     "text": [
      "{'credentials': [{'credentialId': 134021, 'name': 'new_api_credential_2', 'apiLinks': [{'rel': 'self', 'href': 'https://api.thousandeyes.com/v6/credentials/134021'}]}]}\n"
     ]
    }
   ],
   "source": [
    "r_json = r.json()\n",
    "print(r_json)\n",
    "\n",
    "\n",
    "\n",
    "\n"
   ]
  },
  {
   "cell_type": "code",
   "execution_count": null,
   "id": "a42abc97",
   "metadata": {},
   "outputs": [],
   "source": []
  }
 ],
 "metadata": {
  "kernelspec": {
   "display_name": "Python 3 (ipykernel)",
   "language": "python",
   "name": "python3"
  },
  "language_info": {
   "codemirror_mode": {
    "name": "ipython",
    "version": 3
   },
   "file_extension": ".py",
   "mimetype": "text/x-python",
   "name": "python",
   "nbconvert_exporter": "python",
   "pygments_lexer": "ipython3",
   "version": "3.9.16"
  }
 },
 "nbformat": 4,
 "nbformat_minor": 5
}
